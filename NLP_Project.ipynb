{
  "cells": [
    {
      "cell_type": "markdown",
      "metadata": {
        "id": "5ERlHn84XzH6"
      },
      "source": [
        "# ReadCSV"
      ]
    },
    {
      "cell_type": "code",
      "source": [
        "from google.colab import drive\n",
        "drive.mount('/content/drive')"
      ],
      "metadata": {
        "colab": {
          "base_uri": "https://localhost:8080/"
        },
        "id": "4jJwE0aynujw",
        "outputId": "575afb22-4e49-44f4-92ed-16f75458eeed"
      },
      "execution_count": null,
      "outputs": [
        {
          "output_type": "stream",
          "name": "stdout",
          "text": [
            "Drive already mounted at /content/drive; to attempt to forcibly remount, call drive.mount(\"/content/drive\", force_remount=True).\n"
          ]
        }
      ]
    },
    {
      "cell_type": "code",
      "execution_count": null,
      "metadata": {
        "colab": {
          "base_uri": "https://localhost:8080/"
        },
        "id": "Cbrmws8xXyhd",
        "outputId": "30bb2f34-4428-4372-90de-79de0a9ddabd"
      },
      "outputs": [
        {
          "output_type": "stream",
          "name": "stdout",
          "text": [
            "[nltk_data] Downloading package stopwords to /root/nltk_data...\n",
            "[nltk_data]   Package stopwords is already up-to-date!\n",
            "[nltk_data] Downloading package wordnet to /root/nltk_data...\n",
            "[nltk_data]   Package wordnet is already up-to-date!\n"
          ]
        }
      ],
      "source": [
        "# importing required libraries\n",
        "import pandas as pd\n",
        "import numpy as np\n",
        "import re\n",
        "import string\n",
        "import nltk\n",
        "from nltk.corpus import stopwords\n",
        "nltk.download('stopwords')\n",
        "nltk.download('wordnet')\n",
        "from bs4 import BeautifulSoup\n",
        "#from google.colab import drive\n",
        "from tqdm import tqdm\n",
        "\n",
        "from gensim.parsing.preprocessing import remove_stopwords\n",
        "from gensim.utils import simple_preprocess\n",
        "from nltk.stem import WordNetLemmatizer\n",
        "from sklearn.model_selection import train_test_split\n",
        "from gensim.models.word2vec import Word2Vec\n",
        "from sklearn.metrics import confusion_matrix, accuracy_score, classification_report\n",
        "from sklearn.preprocessing import scale\n",
        "\n",
        "\n",
        "from sklearn.ensemble import GradientBoostingClassifier\n",
        "from sklearn.linear_model import LogisticRegression\n",
        "from sklearn.svm import SVC\n",
        "from sklearn.ensemble import RandomForestClassifier\n",
        "import xgboost as xgb"
      ]
    },
    {
      "cell_type": "code",
      "execution_count": null,
      "metadata": {
        "colab": {
          "base_uri": "https://localhost:8080/"
        },
        "id": "5izaO-dhXyuk",
        "outputId": "22dc0237-c841-4eff-fe68-9d3f90255546"
      },
      "outputs": [
        {
          "output_type": "execute_result",
          "data": {
            "text/plain": [
              "   id                                              title              author  \\\n",
              "0   0  House Dem Aide: We Didn’t Even See Comey’s Let...       Darrell Lucus   \n",
              "1   1  FLYNN: Hillary Clinton, Big Woman on Campus - ...     Daniel J. Flynn   \n",
              "2   2                  Why the Truth Might Get You Fired  Consortiumnews.com   \n",
              "3   3  15 Civilians Killed In Single US Airstrike Hav...     Jessica Purkiss   \n",
              "4   4  Iranian woman jailed for fictional unpublished...      Howard Portnoy   \n",
              "\n",
              "                                                text  label  \n",
              "0  House Dem Aide: We Didn’t Even See Comey’s Let...      1  \n",
              "1  Ever get the feeling your life circles the rou...      0  \n",
              "2  Why the Truth Might Get You Fired October 29, ...      1  \n",
              "3  Videos 15 Civilians Killed In Single US Airstr...      1  \n",
              "4  Print \\nAn Iranian woman has been sentenced to...      1  "
            ],
            "text/html": [
              "\n",
              "  <div id=\"df-988ed641-7909-46c4-8982-ab87bf42c975\">\n",
              "    <div class=\"colab-df-container\">\n",
              "      <div>\n",
              "<style scoped>\n",
              "    .dataframe tbody tr th:only-of-type {\n",
              "        vertical-align: middle;\n",
              "    }\n",
              "\n",
              "    .dataframe tbody tr th {\n",
              "        vertical-align: top;\n",
              "    }\n",
              "\n",
              "    .dataframe thead th {\n",
              "        text-align: right;\n",
              "    }\n",
              "</style>\n",
              "<table border=\"1\" class=\"dataframe\">\n",
              "  <thead>\n",
              "    <tr style=\"text-align: right;\">\n",
              "      <th></th>\n",
              "      <th>id</th>\n",
              "      <th>title</th>\n",
              "      <th>author</th>\n",
              "      <th>text</th>\n",
              "      <th>label</th>\n",
              "    </tr>\n",
              "  </thead>\n",
              "  <tbody>\n",
              "    <tr>\n",
              "      <th>0</th>\n",
              "      <td>0</td>\n",
              "      <td>House Dem Aide: We Didn’t Even See Comey’s Let...</td>\n",
              "      <td>Darrell Lucus</td>\n",
              "      <td>House Dem Aide: We Didn’t Even See Comey’s Let...</td>\n",
              "      <td>1</td>\n",
              "    </tr>\n",
              "    <tr>\n",
              "      <th>1</th>\n",
              "      <td>1</td>\n",
              "      <td>FLYNN: Hillary Clinton, Big Woman on Campus - ...</td>\n",
              "      <td>Daniel J. Flynn</td>\n",
              "      <td>Ever get the feeling your life circles the rou...</td>\n",
              "      <td>0</td>\n",
              "    </tr>\n",
              "    <tr>\n",
              "      <th>2</th>\n",
              "      <td>2</td>\n",
              "      <td>Why the Truth Might Get You Fired</td>\n",
              "      <td>Consortiumnews.com</td>\n",
              "      <td>Why the Truth Might Get You Fired October 29, ...</td>\n",
              "      <td>1</td>\n",
              "    </tr>\n",
              "    <tr>\n",
              "      <th>3</th>\n",
              "      <td>3</td>\n",
              "      <td>15 Civilians Killed In Single US Airstrike Hav...</td>\n",
              "      <td>Jessica Purkiss</td>\n",
              "      <td>Videos 15 Civilians Killed In Single US Airstr...</td>\n",
              "      <td>1</td>\n",
              "    </tr>\n",
              "    <tr>\n",
              "      <th>4</th>\n",
              "      <td>4</td>\n",
              "      <td>Iranian woman jailed for fictional unpublished...</td>\n",
              "      <td>Howard Portnoy</td>\n",
              "      <td>Print \\nAn Iranian woman has been sentenced to...</td>\n",
              "      <td>1</td>\n",
              "    </tr>\n",
              "  </tbody>\n",
              "</table>\n",
              "</div>\n",
              "      <button class=\"colab-df-convert\" onclick=\"convertToInteractive('df-988ed641-7909-46c4-8982-ab87bf42c975')\"\n",
              "              title=\"Convert this dataframe to an interactive table.\"\n",
              "              style=\"display:none;\">\n",
              "        \n",
              "  <svg xmlns=\"http://www.w3.org/2000/svg\" height=\"24px\"viewBox=\"0 0 24 24\"\n",
              "       width=\"24px\">\n",
              "    <path d=\"M0 0h24v24H0V0z\" fill=\"none\"/>\n",
              "    <path d=\"M18.56 5.44l.94 2.06.94-2.06 2.06-.94-2.06-.94-.94-2.06-.94 2.06-2.06.94zm-11 1L8.5 8.5l.94-2.06 2.06-.94-2.06-.94L8.5 2.5l-.94 2.06-2.06.94zm10 10l.94 2.06.94-2.06 2.06-.94-2.06-.94-.94-2.06-.94 2.06-2.06.94z\"/><path d=\"M17.41 7.96l-1.37-1.37c-.4-.4-.92-.59-1.43-.59-.52 0-1.04.2-1.43.59L10.3 9.45l-7.72 7.72c-.78.78-.78 2.05 0 2.83L4 21.41c.39.39.9.59 1.41.59.51 0 1.02-.2 1.41-.59l7.78-7.78 2.81-2.81c.8-.78.8-2.07 0-2.86zM5.41 20L4 18.59l7.72-7.72 1.47 1.35L5.41 20z\"/>\n",
              "  </svg>\n",
              "      </button>\n",
              "      \n",
              "  <style>\n",
              "    .colab-df-container {\n",
              "      display:flex;\n",
              "      flex-wrap:wrap;\n",
              "      gap: 12px;\n",
              "    }\n",
              "\n",
              "    .colab-df-convert {\n",
              "      background-color: #E8F0FE;\n",
              "      border: none;\n",
              "      border-radius: 50%;\n",
              "      cursor: pointer;\n",
              "      display: none;\n",
              "      fill: #1967D2;\n",
              "      height: 32px;\n",
              "      padding: 0 0 0 0;\n",
              "      width: 32px;\n",
              "    }\n",
              "\n",
              "    .colab-df-convert:hover {\n",
              "      background-color: #E2EBFA;\n",
              "      box-shadow: 0px 1px 2px rgba(60, 64, 67, 0.3), 0px 1px 3px 1px rgba(60, 64, 67, 0.15);\n",
              "      fill: #174EA6;\n",
              "    }\n",
              "\n",
              "    [theme=dark] .colab-df-convert {\n",
              "      background-color: #3B4455;\n",
              "      fill: #D2E3FC;\n",
              "    }\n",
              "\n",
              "    [theme=dark] .colab-df-convert:hover {\n",
              "      background-color: #434B5C;\n",
              "      box-shadow: 0px 1px 3px 1px rgba(0, 0, 0, 0.15);\n",
              "      filter: drop-shadow(0px 1px 2px rgba(0, 0, 0, 0.3));\n",
              "      fill: #FFFFFF;\n",
              "    }\n",
              "  </style>\n",
              "\n",
              "      <script>\n",
              "        const buttonEl =\n",
              "          document.querySelector('#df-988ed641-7909-46c4-8982-ab87bf42c975 button.colab-df-convert');\n",
              "        buttonEl.style.display =\n",
              "          google.colab.kernel.accessAllowed ? 'block' : 'none';\n",
              "\n",
              "        async function convertToInteractive(key) {\n",
              "          const element = document.querySelector('#df-988ed641-7909-46c4-8982-ab87bf42c975');\n",
              "          const dataTable =\n",
              "            await google.colab.kernel.invokeFunction('convertToInteractive',\n",
              "                                                     [key], {});\n",
              "          if (!dataTable) return;\n",
              "\n",
              "          const docLinkHtml = 'Like what you see? Visit the ' +\n",
              "            '<a target=\"_blank\" href=https://colab.research.google.com/notebooks/data_table.ipynb>data table notebook</a>'\n",
              "            + ' to learn more about interactive tables.';\n",
              "          element.innerHTML = '';\n",
              "          dataTable['output_type'] = 'display_data';\n",
              "          await google.colab.output.renderOutput(dataTable, element);\n",
              "          const docLink = document.createElement('div');\n",
              "          docLink.innerHTML = docLinkHtml;\n",
              "          element.appendChild(docLink);\n",
              "        }\n",
              "      </script>\n",
              "    </div>\n",
              "  </div>\n",
              "  "
            ]
          },
          "metadata": {},
          "execution_count": 136
        }
      ],
      "source": [
        "data_train = pd.read_csv('/content/drive/MyDrive/train.csv')\n",
        "data_train.head()"
      ]
    },
    {
      "cell_type": "code",
      "execution_count": null,
      "metadata": {
        "colab": {
          "base_uri": "https://localhost:8080/"
        },
        "id": "Z21MnZqpX67O",
        "outputId": "3bc902b2-dac3-4a87-bb45-0dff944b806d"
      },
      "outputs": [
        {
          "output_type": "execute_result",
          "data": {
            "text/plain": [
              "      id                                              title  \\\n",
              "0  20800  Specter of Trump Loosens Tongues, if Not Purse...   \n",
              "1  20801  Russian warships ready to strike terrorists ne...   \n",
              "2  20802  #NoDAPL: Native American Leaders Vow to Stay A...   \n",
              "3  20803  Tim Tebow Will Attempt Another Comeback, This ...   \n",
              "4  20804                    Keiser Report: Meme Wars (E995)   \n",
              "\n",
              "                    author                                               text  \n",
              "0         David Streitfeld  PALO ALTO, Calif.  —   After years of scorning...  \n",
              "1                      NaN  Russian warships ready to strike terrorists ne...  \n",
              "2            Common Dreams  Videos #NoDAPL: Native American Leaders Vow to...  \n",
              "3            Daniel Victor  If at first you don’t succeed, try a different...  \n",
              "4  Truth Broadcast Network  42 mins ago 1 Views 0 Comments 0 Likes 'For th...  "
            ],
            "text/html": [
              "\n",
              "  <div id=\"df-be4488d2-6e19-49a5-b304-006033b24d7a\">\n",
              "    <div class=\"colab-df-container\">\n",
              "      <div>\n",
              "<style scoped>\n",
              "    .dataframe tbody tr th:only-of-type {\n",
              "        vertical-align: middle;\n",
              "    }\n",
              "\n",
              "    .dataframe tbody tr th {\n",
              "        vertical-align: top;\n",
              "    }\n",
              "\n",
              "    .dataframe thead th {\n",
              "        text-align: right;\n",
              "    }\n",
              "</style>\n",
              "<table border=\"1\" class=\"dataframe\">\n",
              "  <thead>\n",
              "    <tr style=\"text-align: right;\">\n",
              "      <th></th>\n",
              "      <th>id</th>\n",
              "      <th>title</th>\n",
              "      <th>author</th>\n",
              "      <th>text</th>\n",
              "    </tr>\n",
              "  </thead>\n",
              "  <tbody>\n",
              "    <tr>\n",
              "      <th>0</th>\n",
              "      <td>20800</td>\n",
              "      <td>Specter of Trump Loosens Tongues, if Not Purse...</td>\n",
              "      <td>David Streitfeld</td>\n",
              "      <td>PALO ALTO, Calif.  —   After years of scorning...</td>\n",
              "    </tr>\n",
              "    <tr>\n",
              "      <th>1</th>\n",
              "      <td>20801</td>\n",
              "      <td>Russian warships ready to strike terrorists ne...</td>\n",
              "      <td>NaN</td>\n",
              "      <td>Russian warships ready to strike terrorists ne...</td>\n",
              "    </tr>\n",
              "    <tr>\n",
              "      <th>2</th>\n",
              "      <td>20802</td>\n",
              "      <td>#NoDAPL: Native American Leaders Vow to Stay A...</td>\n",
              "      <td>Common Dreams</td>\n",
              "      <td>Videos #NoDAPL: Native American Leaders Vow to...</td>\n",
              "    </tr>\n",
              "    <tr>\n",
              "      <th>3</th>\n",
              "      <td>20803</td>\n",
              "      <td>Tim Tebow Will Attempt Another Comeback, This ...</td>\n",
              "      <td>Daniel Victor</td>\n",
              "      <td>If at first you don’t succeed, try a different...</td>\n",
              "    </tr>\n",
              "    <tr>\n",
              "      <th>4</th>\n",
              "      <td>20804</td>\n",
              "      <td>Keiser Report: Meme Wars (E995)</td>\n",
              "      <td>Truth Broadcast Network</td>\n",
              "      <td>42 mins ago 1 Views 0 Comments 0 Likes 'For th...</td>\n",
              "    </tr>\n",
              "  </tbody>\n",
              "</table>\n",
              "</div>\n",
              "      <button class=\"colab-df-convert\" onclick=\"convertToInteractive('df-be4488d2-6e19-49a5-b304-006033b24d7a')\"\n",
              "              title=\"Convert this dataframe to an interactive table.\"\n",
              "              style=\"display:none;\">\n",
              "        \n",
              "  <svg xmlns=\"http://www.w3.org/2000/svg\" height=\"24px\"viewBox=\"0 0 24 24\"\n",
              "       width=\"24px\">\n",
              "    <path d=\"M0 0h24v24H0V0z\" fill=\"none\"/>\n",
              "    <path d=\"M18.56 5.44l.94 2.06.94-2.06 2.06-.94-2.06-.94-.94-2.06-.94 2.06-2.06.94zm-11 1L8.5 8.5l.94-2.06 2.06-.94-2.06-.94L8.5 2.5l-.94 2.06-2.06.94zm10 10l.94 2.06.94-2.06 2.06-.94-2.06-.94-.94-2.06-.94 2.06-2.06.94z\"/><path d=\"M17.41 7.96l-1.37-1.37c-.4-.4-.92-.59-1.43-.59-.52 0-1.04.2-1.43.59L10.3 9.45l-7.72 7.72c-.78.78-.78 2.05 0 2.83L4 21.41c.39.39.9.59 1.41.59.51 0 1.02-.2 1.41-.59l7.78-7.78 2.81-2.81c.8-.78.8-2.07 0-2.86zM5.41 20L4 18.59l7.72-7.72 1.47 1.35L5.41 20z\"/>\n",
              "  </svg>\n",
              "      </button>\n",
              "      \n",
              "  <style>\n",
              "    .colab-df-container {\n",
              "      display:flex;\n",
              "      flex-wrap:wrap;\n",
              "      gap: 12px;\n",
              "    }\n",
              "\n",
              "    .colab-df-convert {\n",
              "      background-color: #E8F0FE;\n",
              "      border: none;\n",
              "      border-radius: 50%;\n",
              "      cursor: pointer;\n",
              "      display: none;\n",
              "      fill: #1967D2;\n",
              "      height: 32px;\n",
              "      padding: 0 0 0 0;\n",
              "      width: 32px;\n",
              "    }\n",
              "\n",
              "    .colab-df-convert:hover {\n",
              "      background-color: #E2EBFA;\n",
              "      box-shadow: 0px 1px 2px rgba(60, 64, 67, 0.3), 0px 1px 3px 1px rgba(60, 64, 67, 0.15);\n",
              "      fill: #174EA6;\n",
              "    }\n",
              "\n",
              "    [theme=dark] .colab-df-convert {\n",
              "      background-color: #3B4455;\n",
              "      fill: #D2E3FC;\n",
              "    }\n",
              "\n",
              "    [theme=dark] .colab-df-convert:hover {\n",
              "      background-color: #434B5C;\n",
              "      box-shadow: 0px 1px 3px 1px rgba(0, 0, 0, 0.15);\n",
              "      filter: drop-shadow(0px 1px 2px rgba(0, 0, 0, 0.3));\n",
              "      fill: #FFFFFF;\n",
              "    }\n",
              "  </style>\n",
              "\n",
              "      <script>\n",
              "        const buttonEl =\n",
              "          document.querySelector('#df-be4488d2-6e19-49a5-b304-006033b24d7a button.colab-df-convert');\n",
              "        buttonEl.style.display =\n",
              "          google.colab.kernel.accessAllowed ? 'block' : 'none';\n",
              "\n",
              "        async function convertToInteractive(key) {\n",
              "          const element = document.querySelector('#df-be4488d2-6e19-49a5-b304-006033b24d7a');\n",
              "          const dataTable =\n",
              "            await google.colab.kernel.invokeFunction('convertToInteractive',\n",
              "                                                     [key], {});\n",
              "          if (!dataTable) return;\n",
              "\n",
              "          const docLinkHtml = 'Like what you see? Visit the ' +\n",
              "            '<a target=\"_blank\" href=https://colab.research.google.com/notebooks/data_table.ipynb>data table notebook</a>'\n",
              "            + ' to learn more about interactive tables.';\n",
              "          element.innerHTML = '';\n",
              "          dataTable['output_type'] = 'display_data';\n",
              "          await google.colab.output.renderOutput(dataTable, element);\n",
              "          const docLink = document.createElement('div');\n",
              "          docLink.innerHTML = docLinkHtml;\n",
              "          element.appendChild(docLink);\n",
              "        }\n",
              "      </script>\n",
              "    </div>\n",
              "  </div>\n",
              "  "
            ]
          },
          "metadata": {},
          "execution_count": 137
        }
      ],
      "source": [
        "data_test = pd.read_csv('/content/drive/MyDrive/test.csv')\n",
        "data_test.head()"
      ]
    },
    {
      "cell_type": "code",
      "execution_count": null,
      "metadata": {
        "colab": {
          "base_uri": "https://localhost:8080/"
        },
        "id": "bN8_AjfTX6-T",
        "outputId": "e6bdc1c5-f8d0-4e8c-806c-c4dc8cdb8f23"
      },
      "outputs": [
        {
          "output_type": "execute_result",
          "data": {
            "text/plain": [
              "id           0\n",
              "title      558\n",
              "author    1957\n",
              "text        39\n",
              "label        0\n",
              "dtype: int64"
            ]
          },
          "metadata": {},
          "execution_count": 138
        }
      ],
      "source": [
        "data_train.isna().sum()"
      ]
    },
    {
      "cell_type": "code",
      "execution_count": null,
      "metadata": {
        "colab": {
          "base_uri": "https://localhost:8080/"
        },
        "id": "n6I368r_X7Bb",
        "outputId": "c3b646bd-580a-4863-a5fb-f04f6fb375dd"
      },
      "outputs": [
        {
          "output_type": "execute_result",
          "data": {
            "text/plain": [
              "id          0\n",
              "title     122\n",
              "author    503\n",
              "text        7\n",
              "dtype: int64"
            ]
          },
          "metadata": {},
          "execution_count": 139
        }
      ],
      "source": [
        "data_test.isna().sum()"
      ]
    },
    {
      "cell_type": "code",
      "execution_count": null,
      "metadata": {
        "colab": {
          "base_uri": "https://localhost:8080/"
        },
        "id": "GuIgLgc1ZuZR",
        "outputId": "362f2a25-4d74-4f91-fa08-75525909d26b"
      },
      "outputs": [
        {
          "output_type": "execute_result",
          "data": {
            "text/plain": [
              "'Ever get the feeling your life circles the roundabout rather than heads in a straight line toward the intended destination? [Hillary Clinton remains the big woman on campus in leafy, liberal Wellesley, Massachusetts. Everywhere else votes her most likely to don her inauguration dress for the remainder of her days the way Miss Havisham forever wore that wedding dress.  Speaking of Great Expectations, Hillary Rodham overflowed with them 48 years ago when she first addressed a Wellesley graduating class. The president of the college informed those gathered in 1969 that the students needed “no debate so far as I could ascertain as to who their spokesman was to be” (kind of the like the Democratic primaries in 2016 minus the   terms unknown then even at a Seven Sisters school). “I am very glad that Miss Adams made it clear that what I am speaking for today is all of us —  the 400 of us,” Miss Rodham told her classmates. After appointing herself Edger Bergen to the Charlie McCarthys and Mortimer Snerds in attendance, the    bespectacled in granny glasses (awarding her matronly wisdom —  or at least John Lennon wisdom) took issue with the previous speaker. Despite becoming the first   to win election to a seat in the U. S. Senate since Reconstruction, Edward Brooke came in for criticism for calling for “empathy” for the goals of protestors as he criticized tactics. Though Clinton in her senior thesis on Saul Alinsky lamented “Black Power demagogues” and “elitist arrogance and repressive intolerance” within the New Left, similar words coming out of a Republican necessitated a brief rebuttal. “Trust,” Rodham ironically observed in 1969, “this is one word that when I asked the class at our rehearsal what it was they wanted me to say for them, everyone came up to me and said ‘Talk about trust, talk about the lack of trust both for us and the way we feel about others. Talk about the trust bust.’ What can you say about it? What can you say about a feeling that permeates a generation and that perhaps is not even understood by those who are distrusted?” The “trust bust” certainly busted Clinton’s 2016 plans. She certainly did not even understand that people distrusted her. After Whitewater, Travelgate, the vast   conspiracy, Benghazi, and the missing emails, Clinton found herself the distrusted voice on Friday. There was a load of compromising on the road to the broadening of her political horizons. And distrust from the American people —  Trump edged her 48 percent to 38 percent on the question immediately prior to November’s election —  stood as a major reason for the closing of those horizons. Clinton described her vanquisher and his supporters as embracing a “lie,” a “con,” “alternative facts,” and “a   assault on truth and reason. ” She failed to explain why the American people chose his lies over her truth. “As the history majors among you here today know all too well, when people in power invent their own facts and attack those who question them, it can mark the beginning of the end of a free society,” she offered. “That is not hyperbole. ” Like so many people to emerge from the 1960s, Hillary Clinton embarked upon a long, strange trip. From high school Goldwater Girl and Wellesley College Republican president to Democratic politician, Clinton drank in the times and the place that gave her a degree. More significantly, she went from idealist to cynic, as a comparison of her two Wellesley commencement addresses show. Way back when, she lamented that “for too long our leaders have viewed politics as the art of the possible, and the challenge now is to practice politics as the art of making what appears to be impossible possible. ” Now, as the big woman on campus but the odd woman out of the White House, she wonders how her current station is even possible. “Why aren’t I 50 points ahead?” she asked in September. In May she asks why she isn’t president. The woman famously dubbed a “congenital liar” by Bill Safire concludes that lies did her in —  theirs, mind you, not hers. Getting stood up on Election Day, like finding yourself the jilted bride on your wedding day, inspires dangerous delusions.'"
            ],
            "application/vnd.google.colaboratory.intrinsic+json": {
              "type": "string"
            }
          },
          "metadata": {},
          "execution_count": 140
        }
      ],
      "source": [
        "data_train['text'].iloc[1]"
      ]
    },
    {
      "cell_type": "markdown",
      "source": [
        "#### We are going to use text and author as the way to check fraud or not"
      ],
      "metadata": {
        "id": "ULJQQMj9-yyN"
      }
    },
    {
      "cell_type": "code",
      "execution_count": null,
      "metadata": {
        "id": "b306GQqpcA2m"
      },
      "outputs": [],
      "source": [
        "# filling NA with the blank spaces\n",
        "\n",
        "data_train=data_train.fillna('')\n",
        "data_test=data_test.fillna('')"
      ]
    },
    {
      "cell_type": "code",
      "execution_count": null,
      "metadata": {
        "id": "AX3U6aBtnwC1"
      },
      "outputs": [],
      "source": [
        "data_train['text_total'] = data_train['author'] + ' ' + data_train['text'] \n",
        "data_test['text_total']= data_test['author'] + ' ' + data_test['text']"
      ]
    },
    {
      "cell_type": "code",
      "execution_count": null,
      "metadata": {
        "colab": {
          "base_uri": "https://localhost:8080/"
        },
        "id": "9qglxBMvoDZy",
        "outputId": "b427de94-c0a9-40cf-cbcf-3c6ce1eba9ce"
      },
      "outputs": [
        {
          "output_type": "execute_result",
          "data": {
            "text/plain": [
              "      id                                              title  \\\n",
              "0  20800  Specter of Trump Loosens Tongues, if Not Purse...   \n",
              "1  20801  Russian warships ready to strike terrorists ne...   \n",
              "2  20802  #NoDAPL: Native American Leaders Vow to Stay A...   \n",
              "3  20803  Tim Tebow Will Attempt Another Comeback, This ...   \n",
              "4  20804                    Keiser Report: Meme Wars (E995)   \n",
              "\n",
              "                    author                                               text  \\\n",
              "0         David Streitfeld  PALO ALTO, Calif.  —   After years of scorning...   \n",
              "1                           Russian warships ready to strike terrorists ne...   \n",
              "2            Common Dreams  Videos #NoDAPL: Native American Leaders Vow to...   \n",
              "3            Daniel Victor  If at first you don’t succeed, try a different...   \n",
              "4  Truth Broadcast Network  42 mins ago 1 Views 0 Comments 0 Likes 'For th...   \n",
              "\n",
              "                                          text_total  \n",
              "0  David Streitfeld PALO ALTO, Calif.  —   After ...  \n",
              "1   Russian warships ready to strike terrorists n...  \n",
              "2  Common Dreams Videos #NoDAPL: Native American ...  \n",
              "3  Daniel Victor If at first you don’t succeed, t...  \n",
              "4  Truth Broadcast Network 42 mins ago 1 Views 0 ...  "
            ],
            "text/html": [
              "\n",
              "  <div id=\"df-7f93bd30-001e-4860-9c32-5dd74417dd7e\">\n",
              "    <div class=\"colab-df-container\">\n",
              "      <div>\n",
              "<style scoped>\n",
              "    .dataframe tbody tr th:only-of-type {\n",
              "        vertical-align: middle;\n",
              "    }\n",
              "\n",
              "    .dataframe tbody tr th {\n",
              "        vertical-align: top;\n",
              "    }\n",
              "\n",
              "    .dataframe thead th {\n",
              "        text-align: right;\n",
              "    }\n",
              "</style>\n",
              "<table border=\"1\" class=\"dataframe\">\n",
              "  <thead>\n",
              "    <tr style=\"text-align: right;\">\n",
              "      <th></th>\n",
              "      <th>id</th>\n",
              "      <th>title</th>\n",
              "      <th>author</th>\n",
              "      <th>text</th>\n",
              "      <th>text_total</th>\n",
              "    </tr>\n",
              "  </thead>\n",
              "  <tbody>\n",
              "    <tr>\n",
              "      <th>0</th>\n",
              "      <td>20800</td>\n",
              "      <td>Specter of Trump Loosens Tongues, if Not Purse...</td>\n",
              "      <td>David Streitfeld</td>\n",
              "      <td>PALO ALTO, Calif.  —   After years of scorning...</td>\n",
              "      <td>David Streitfeld PALO ALTO, Calif.  —   After ...</td>\n",
              "    </tr>\n",
              "    <tr>\n",
              "      <th>1</th>\n",
              "      <td>20801</td>\n",
              "      <td>Russian warships ready to strike terrorists ne...</td>\n",
              "      <td></td>\n",
              "      <td>Russian warships ready to strike terrorists ne...</td>\n",
              "      <td>Russian warships ready to strike terrorists n...</td>\n",
              "    </tr>\n",
              "    <tr>\n",
              "      <th>2</th>\n",
              "      <td>20802</td>\n",
              "      <td>#NoDAPL: Native American Leaders Vow to Stay A...</td>\n",
              "      <td>Common Dreams</td>\n",
              "      <td>Videos #NoDAPL: Native American Leaders Vow to...</td>\n",
              "      <td>Common Dreams Videos #NoDAPL: Native American ...</td>\n",
              "    </tr>\n",
              "    <tr>\n",
              "      <th>3</th>\n",
              "      <td>20803</td>\n",
              "      <td>Tim Tebow Will Attempt Another Comeback, This ...</td>\n",
              "      <td>Daniel Victor</td>\n",
              "      <td>If at first you don’t succeed, try a different...</td>\n",
              "      <td>Daniel Victor If at first you don’t succeed, t...</td>\n",
              "    </tr>\n",
              "    <tr>\n",
              "      <th>4</th>\n",
              "      <td>20804</td>\n",
              "      <td>Keiser Report: Meme Wars (E995)</td>\n",
              "      <td>Truth Broadcast Network</td>\n",
              "      <td>42 mins ago 1 Views 0 Comments 0 Likes 'For th...</td>\n",
              "      <td>Truth Broadcast Network 42 mins ago 1 Views 0 ...</td>\n",
              "    </tr>\n",
              "  </tbody>\n",
              "</table>\n",
              "</div>\n",
              "      <button class=\"colab-df-convert\" onclick=\"convertToInteractive('df-7f93bd30-001e-4860-9c32-5dd74417dd7e')\"\n",
              "              title=\"Convert this dataframe to an interactive table.\"\n",
              "              style=\"display:none;\">\n",
              "        \n",
              "  <svg xmlns=\"http://www.w3.org/2000/svg\" height=\"24px\"viewBox=\"0 0 24 24\"\n",
              "       width=\"24px\">\n",
              "    <path d=\"M0 0h24v24H0V0z\" fill=\"none\"/>\n",
              "    <path d=\"M18.56 5.44l.94 2.06.94-2.06 2.06-.94-2.06-.94-.94-2.06-.94 2.06-2.06.94zm-11 1L8.5 8.5l.94-2.06 2.06-.94-2.06-.94L8.5 2.5l-.94 2.06-2.06.94zm10 10l.94 2.06.94-2.06 2.06-.94-2.06-.94-.94-2.06-.94 2.06-2.06.94z\"/><path d=\"M17.41 7.96l-1.37-1.37c-.4-.4-.92-.59-1.43-.59-.52 0-1.04.2-1.43.59L10.3 9.45l-7.72 7.72c-.78.78-.78 2.05 0 2.83L4 21.41c.39.39.9.59 1.41.59.51 0 1.02-.2 1.41-.59l7.78-7.78 2.81-2.81c.8-.78.8-2.07 0-2.86zM5.41 20L4 18.59l7.72-7.72 1.47 1.35L5.41 20z\"/>\n",
              "  </svg>\n",
              "      </button>\n",
              "      \n",
              "  <style>\n",
              "    .colab-df-container {\n",
              "      display:flex;\n",
              "      flex-wrap:wrap;\n",
              "      gap: 12px;\n",
              "    }\n",
              "\n",
              "    .colab-df-convert {\n",
              "      background-color: #E8F0FE;\n",
              "      border: none;\n",
              "      border-radius: 50%;\n",
              "      cursor: pointer;\n",
              "      display: none;\n",
              "      fill: #1967D2;\n",
              "      height: 32px;\n",
              "      padding: 0 0 0 0;\n",
              "      width: 32px;\n",
              "    }\n",
              "\n",
              "    .colab-df-convert:hover {\n",
              "      background-color: #E2EBFA;\n",
              "      box-shadow: 0px 1px 2px rgba(60, 64, 67, 0.3), 0px 1px 3px 1px rgba(60, 64, 67, 0.15);\n",
              "      fill: #174EA6;\n",
              "    }\n",
              "\n",
              "    [theme=dark] .colab-df-convert {\n",
              "      background-color: #3B4455;\n",
              "      fill: #D2E3FC;\n",
              "    }\n",
              "\n",
              "    [theme=dark] .colab-df-convert:hover {\n",
              "      background-color: #434B5C;\n",
              "      box-shadow: 0px 1px 3px 1px rgba(0, 0, 0, 0.15);\n",
              "      filter: drop-shadow(0px 1px 2px rgba(0, 0, 0, 0.3));\n",
              "      fill: #FFFFFF;\n",
              "    }\n",
              "  </style>\n",
              "\n",
              "      <script>\n",
              "        const buttonEl =\n",
              "          document.querySelector('#df-7f93bd30-001e-4860-9c32-5dd74417dd7e button.colab-df-convert');\n",
              "        buttonEl.style.display =\n",
              "          google.colab.kernel.accessAllowed ? 'block' : 'none';\n",
              "\n",
              "        async function convertToInteractive(key) {\n",
              "          const element = document.querySelector('#df-7f93bd30-001e-4860-9c32-5dd74417dd7e');\n",
              "          const dataTable =\n",
              "            await google.colab.kernel.invokeFunction('convertToInteractive',\n",
              "                                                     [key], {});\n",
              "          if (!dataTable) return;\n",
              "\n",
              "          const docLinkHtml = 'Like what you see? Visit the ' +\n",
              "            '<a target=\"_blank\" href=https://colab.research.google.com/notebooks/data_table.ipynb>data table notebook</a>'\n",
              "            + ' to learn more about interactive tables.';\n",
              "          element.innerHTML = '';\n",
              "          dataTable['output_type'] = 'display_data';\n",
              "          await google.colab.output.renderOutput(dataTable, element);\n",
              "          const docLink = document.createElement('div');\n",
              "          docLink.innerHTML = docLinkHtml;\n",
              "          element.appendChild(docLink);\n",
              "        }\n",
              "      </script>\n",
              "    </div>\n",
              "  </div>\n",
              "  "
            ]
          },
          "metadata": {},
          "execution_count": 143
        }
      ],
      "source": [
        "data_test.head()"
      ]
    },
    {
      "cell_type": "code",
      "execution_count": null,
      "metadata": {
        "colab": {
          "base_uri": "https://localhost:8080/"
        },
        "id": "bI8k8jlCrTST",
        "outputId": "fce9ef42-6690-428d-a1e5-72597d735b4a"
      },
      "outputs": [
        {
          "output_type": "execute_result",
          "data": {
            "text/plain": [
              "(5200, 5)"
            ]
          },
          "metadata": {},
          "execution_count": 144
        }
      ],
      "source": [
        "data_test.shape"
      ]
    },
    {
      "cell_type": "code",
      "execution_count": null,
      "metadata": {
        "colab": {
          "base_uri": "https://localhost:8080/"
        },
        "id": "SefqP7dPrqy3",
        "outputId": "d470ea66-5539-4623-ea8e-1ca1da3a0569"
      },
      "outputs": [
        {
          "output_type": "execute_result",
          "data": {
            "text/plain": [
              "   id                                              title              author  \\\n",
              "0   0  House Dem Aide: We Didn’t Even See Comey’s Let...       Darrell Lucus   \n",
              "1   1  FLYNN: Hillary Clinton, Big Woman on Campus - ...     Daniel J. Flynn   \n",
              "2   2                  Why the Truth Might Get You Fired  Consortiumnews.com   \n",
              "3   3  15 Civilians Killed In Single US Airstrike Hav...     Jessica Purkiss   \n",
              "4   4  Iranian woman jailed for fictional unpublished...      Howard Portnoy   \n",
              "\n",
              "                                                text  label  \\\n",
              "0  House Dem Aide: We Didn’t Even See Comey’s Let...      1   \n",
              "1  Ever get the feeling your life circles the rou...      0   \n",
              "2  Why the Truth Might Get You Fired October 29, ...      1   \n",
              "3  Videos 15 Civilians Killed In Single US Airstr...      1   \n",
              "4  Print \\nAn Iranian woman has been sentenced to...      1   \n",
              "\n",
              "                                          text_total  \n",
              "0  Darrell Lucus House Dem Aide: We Didn’t Even S...  \n",
              "1  Daniel J. Flynn Ever get the feeling your life...  \n",
              "2  Consortiumnews.com Why the Truth Might Get You...  \n",
              "3  Jessica Purkiss Videos 15 Civilians Killed In ...  \n",
              "4  Howard Portnoy Print \\nAn Iranian woman has be...  "
            ],
            "text/html": [
              "\n",
              "  <div id=\"df-8a49c2b0-5f74-4a45-bcf7-b7f5fd8ec64c\">\n",
              "    <div class=\"colab-df-container\">\n",
              "      <div>\n",
              "<style scoped>\n",
              "    .dataframe tbody tr th:only-of-type {\n",
              "        vertical-align: middle;\n",
              "    }\n",
              "\n",
              "    .dataframe tbody tr th {\n",
              "        vertical-align: top;\n",
              "    }\n",
              "\n",
              "    .dataframe thead th {\n",
              "        text-align: right;\n",
              "    }\n",
              "</style>\n",
              "<table border=\"1\" class=\"dataframe\">\n",
              "  <thead>\n",
              "    <tr style=\"text-align: right;\">\n",
              "      <th></th>\n",
              "      <th>id</th>\n",
              "      <th>title</th>\n",
              "      <th>author</th>\n",
              "      <th>text</th>\n",
              "      <th>label</th>\n",
              "      <th>text_total</th>\n",
              "    </tr>\n",
              "  </thead>\n",
              "  <tbody>\n",
              "    <tr>\n",
              "      <th>0</th>\n",
              "      <td>0</td>\n",
              "      <td>House Dem Aide: We Didn’t Even See Comey’s Let...</td>\n",
              "      <td>Darrell Lucus</td>\n",
              "      <td>House Dem Aide: We Didn’t Even See Comey’s Let...</td>\n",
              "      <td>1</td>\n",
              "      <td>Darrell Lucus House Dem Aide: We Didn’t Even S...</td>\n",
              "    </tr>\n",
              "    <tr>\n",
              "      <th>1</th>\n",
              "      <td>1</td>\n",
              "      <td>FLYNN: Hillary Clinton, Big Woman on Campus - ...</td>\n",
              "      <td>Daniel J. Flynn</td>\n",
              "      <td>Ever get the feeling your life circles the rou...</td>\n",
              "      <td>0</td>\n",
              "      <td>Daniel J. Flynn Ever get the feeling your life...</td>\n",
              "    </tr>\n",
              "    <tr>\n",
              "      <th>2</th>\n",
              "      <td>2</td>\n",
              "      <td>Why the Truth Might Get You Fired</td>\n",
              "      <td>Consortiumnews.com</td>\n",
              "      <td>Why the Truth Might Get You Fired October 29, ...</td>\n",
              "      <td>1</td>\n",
              "      <td>Consortiumnews.com Why the Truth Might Get You...</td>\n",
              "    </tr>\n",
              "    <tr>\n",
              "      <th>3</th>\n",
              "      <td>3</td>\n",
              "      <td>15 Civilians Killed In Single US Airstrike Hav...</td>\n",
              "      <td>Jessica Purkiss</td>\n",
              "      <td>Videos 15 Civilians Killed In Single US Airstr...</td>\n",
              "      <td>1</td>\n",
              "      <td>Jessica Purkiss Videos 15 Civilians Killed In ...</td>\n",
              "    </tr>\n",
              "    <tr>\n",
              "      <th>4</th>\n",
              "      <td>4</td>\n",
              "      <td>Iranian woman jailed for fictional unpublished...</td>\n",
              "      <td>Howard Portnoy</td>\n",
              "      <td>Print \\nAn Iranian woman has been sentenced to...</td>\n",
              "      <td>1</td>\n",
              "      <td>Howard Portnoy Print \\nAn Iranian woman has be...</td>\n",
              "    </tr>\n",
              "  </tbody>\n",
              "</table>\n",
              "</div>\n",
              "      <button class=\"colab-df-convert\" onclick=\"convertToInteractive('df-8a49c2b0-5f74-4a45-bcf7-b7f5fd8ec64c')\"\n",
              "              title=\"Convert this dataframe to an interactive table.\"\n",
              "              style=\"display:none;\">\n",
              "        \n",
              "  <svg xmlns=\"http://www.w3.org/2000/svg\" height=\"24px\"viewBox=\"0 0 24 24\"\n",
              "       width=\"24px\">\n",
              "    <path d=\"M0 0h24v24H0V0z\" fill=\"none\"/>\n",
              "    <path d=\"M18.56 5.44l.94 2.06.94-2.06 2.06-.94-2.06-.94-.94-2.06-.94 2.06-2.06.94zm-11 1L8.5 8.5l.94-2.06 2.06-.94-2.06-.94L8.5 2.5l-.94 2.06-2.06.94zm10 10l.94 2.06.94-2.06 2.06-.94-2.06-.94-.94-2.06-.94 2.06-2.06.94z\"/><path d=\"M17.41 7.96l-1.37-1.37c-.4-.4-.92-.59-1.43-.59-.52 0-1.04.2-1.43.59L10.3 9.45l-7.72 7.72c-.78.78-.78 2.05 0 2.83L4 21.41c.39.39.9.59 1.41.59.51 0 1.02-.2 1.41-.59l7.78-7.78 2.81-2.81c.8-.78.8-2.07 0-2.86zM5.41 20L4 18.59l7.72-7.72 1.47 1.35L5.41 20z\"/>\n",
              "  </svg>\n",
              "      </button>\n",
              "      \n",
              "  <style>\n",
              "    .colab-df-container {\n",
              "      display:flex;\n",
              "      flex-wrap:wrap;\n",
              "      gap: 12px;\n",
              "    }\n",
              "\n",
              "    .colab-df-convert {\n",
              "      background-color: #E8F0FE;\n",
              "      border: none;\n",
              "      border-radius: 50%;\n",
              "      cursor: pointer;\n",
              "      display: none;\n",
              "      fill: #1967D2;\n",
              "      height: 32px;\n",
              "      padding: 0 0 0 0;\n",
              "      width: 32px;\n",
              "    }\n",
              "\n",
              "    .colab-df-convert:hover {\n",
              "      background-color: #E2EBFA;\n",
              "      box-shadow: 0px 1px 2px rgba(60, 64, 67, 0.3), 0px 1px 3px 1px rgba(60, 64, 67, 0.15);\n",
              "      fill: #174EA6;\n",
              "    }\n",
              "\n",
              "    [theme=dark] .colab-df-convert {\n",
              "      background-color: #3B4455;\n",
              "      fill: #D2E3FC;\n",
              "    }\n",
              "\n",
              "    [theme=dark] .colab-df-convert:hover {\n",
              "      background-color: #434B5C;\n",
              "      box-shadow: 0px 1px 3px 1px rgba(0, 0, 0, 0.15);\n",
              "      filter: drop-shadow(0px 1px 2px rgba(0, 0, 0, 0.3));\n",
              "      fill: #FFFFFF;\n",
              "    }\n",
              "  </style>\n",
              "\n",
              "      <script>\n",
              "        const buttonEl =\n",
              "          document.querySelector('#df-8a49c2b0-5f74-4a45-bcf7-b7f5fd8ec64c button.colab-df-convert');\n",
              "        buttonEl.style.display =\n",
              "          google.colab.kernel.accessAllowed ? 'block' : 'none';\n",
              "\n",
              "        async function convertToInteractive(key) {\n",
              "          const element = document.querySelector('#df-8a49c2b0-5f74-4a45-bcf7-b7f5fd8ec64c');\n",
              "          const dataTable =\n",
              "            await google.colab.kernel.invokeFunction('convertToInteractive',\n",
              "                                                     [key], {});\n",
              "          if (!dataTable) return;\n",
              "\n",
              "          const docLinkHtml = 'Like what you see? Visit the ' +\n",
              "            '<a target=\"_blank\" href=https://colab.research.google.com/notebooks/data_table.ipynb>data table notebook</a>'\n",
              "            + ' to learn more about interactive tables.';\n",
              "          element.innerHTML = '';\n",
              "          dataTable['output_type'] = 'display_data';\n",
              "          await google.colab.output.renderOutput(dataTable, element);\n",
              "          const docLink = document.createElement('div');\n",
              "          docLink.innerHTML = docLinkHtml;\n",
              "          element.appendChild(docLink);\n",
              "        }\n",
              "      </script>\n",
              "    </div>\n",
              "  </div>\n",
              "  "
            ]
          },
          "metadata": {},
          "execution_count": 145
        }
      ],
      "source": [
        "data_train.head()"
      ]
    },
    {
      "cell_type": "code",
      "execution_count": null,
      "metadata": {
        "colab": {
          "base_uri": "https://localhost:8080/"
        },
        "id": "KBi2uWdXrqy3",
        "outputId": "8046d68d-9a80-44c7-c91c-ce37f38c7499"
      },
      "outputs": [
        {
          "output_type": "stream",
          "name": "stdout",
          "text": [
            "(20800,)\n"
          ]
        }
      ],
      "source": [
        "#X = df.drop('label',axis=1)\n",
        "y=data_train['label']\n",
        "#print(X.shape)\n",
        "print(y.shape)"
      ]
    },
    {
      "cell_type": "code",
      "execution_count": null,
      "metadata": {
        "colab": {
          "base_uri": "https://localhost:8080/"
        },
        "id": "6ZRSIMdlrqy4",
        "outputId": "4db2bbc6-d6f4-4acf-f70b-d9db24a72682"
      },
      "outputs": [
        {
          "output_type": "execute_result",
          "data": {
            "text/plain": [
              "' Russian warships ready to strike terrorists near Aleppo 08.11.2016 | Source: Source: Mil.ru Attack aircraft of the Russian aircraft carrier Admiral Kuznetsov get ready to strike terrorists\\' positions in the vicinity of Aleppo, sources at the Russian Defense Ministry said, RBC reports. \"Insurgents\\' attempts to break into Aleppo from outside are meaningless,\" the source said. The main task of the aircraft carrier aviation group is to strike missile and air blows on the terrorists , whose goal is to enter Aleppo. \"After the attacks on terrorists\\' positions, one will have to forget about the support for insurgents from the outside,\" the source said. The Russian group in the Mediterranean Sea consists of the Admiral Kuznetsov aircraft carrier , the heavy nuclear missile cruiser Pyotr Velikiy (Peter the Great) and large anti-submarine ships Severomorsk and Vice-Admiral Kulakov. Russia has increased intelligence activities in Syria to establish the areas, where terrorists are concentrated, as well as the routes that they use to move from one area to another. \"The militants took advantage of the humanitarian pause and regrouped their forces to prepare for a new breakthrough into the eastern part of Aleppo,\" the source added. According to the source, Russia will use new weapons during the upcoming attacks on terrorists . It was said that the Russian warships in the Mediterranean Sea will launch \"Caliber\" cruise missiles, although it was not specified which ships would be responsible for the launches. Pravda.Ru Russian warships travel to Syria'"
            ],
            "application/vnd.google.colaboratory.intrinsic+json": {
              "type": "string"
            }
          },
          "metadata": {},
          "execution_count": 147
        }
      ],
      "source": [
        "data_test['text_total'].loc[1]"
      ]
    },
    {
      "cell_type": "markdown",
      "metadata": {
        "id": "qdOELAG4wFPd"
      },
      "source": [
        "# Data Preprocessing"
      ]
    },
    {
      "cell_type": "markdown",
      "metadata": {
        "id": "ONrEGgaBrUIi"
      },
      "source": [
        "### Removing of special character, stopwords removal, spaces, tab removal, making it to lower cases."
      ]
    },
    {
      "cell_type": "code",
      "execution_count": null,
      "metadata": {
        "id": "t61dDgVncB_T"
      },
      "outputs": [],
      "source": [
        "## Function to preprocess the data \n",
        "\n",
        "def pre_processing(sen):\n",
        "\n",
        "  #Remove URL\n",
        "  sen = re.sub(r'http\\S+', '', sen)\n",
        "  sen = ''.join(sen)\n",
        "\n",
        "  ## this is to remove the html tags in the sentences \n",
        "  text = BeautifulSoup(sen).get_text()\n",
        "  text = ''.join(text)\n",
        "\n",
        "  ## Remove email addresses \n",
        "  text = ' '.join([item for item in text.split() if '@' not in item])\n",
        "    \n",
        "  #Remove the punctuations \n",
        "  text_updated = [x for x in text if x not in '''!\"#$%&'()*+,-./:;<=>?@[\\]^_`{|}~—-’‘''']\n",
        "  text_updated = ''.join(text_updated)\n",
        "\n",
        "  ##Remove multiple spaces from string\n",
        "  text_updated = re.sub(' +', ' ', text_updated)\n",
        "  text_updated = ''.join(text_updated)\n",
        "    \n",
        "  #Consider only characters\n",
        "  text_updated = re.sub('^a-zA-Z',' ',text_updated)\n",
        "  text_updated = ''.join(text_updated)\n",
        "    \n",
        "  ##replace new line with space \n",
        "  text_updated = re.sub('\\n',' ',text_updated)\n",
        "  text_updated = ''.join(text_updated)\n",
        "    \n",
        "  ##convert it into lower case \n",
        "  text_updated = text_updated.lower()\n",
        "    \n",
        "    \n",
        "  return text_updated"
      ]
    },
    {
      "cell_type": "code",
      "execution_count": null,
      "metadata": {
        "id": "h7CP4ohYrqy6"
      },
      "outputs": [],
      "source": [
        "data_train['text_total'] = data_train['text_total'].apply(pre_processing)\n",
        "data_test['text_total'] = data_test['text_total'].apply(pre_processing)"
      ]
    },
    {
      "cell_type": "code",
      "source": [
        "## performing others steps on training data\n",
        "\n",
        "## removing the stop words\n",
        "data_train['text_total'] = [remove_stopwords(x) for x in data_train['text_total']]\n",
        "data_test['text_total'] = [remove_stopwords(x) for x in data_test['text_total']]\n",
        "\n",
        "##Tokenizing the sentence\n",
        "data_train['text_total'] = [simple_preprocess(x,deacc=True) for x in data_train['text_total']]\n",
        "data_test['text_total'] = [simple_preprocess(x,deacc=True) for x in data_test['text_total']]\n",
        "\n",
        "  \n",
        "##Then Lemmatizing the sentence\n",
        "# lemmatizer = WordNetLemmatizer()\n",
        "# data_train['text_total'] = [' '.join([lemmatizer.lemmatize(word) for word in tokens.split()]) for tokens in data_train['text_total']]\n",
        "# data_test['text_total'] = [' '.join([lemmatizer.lemmatize(word) for word in tokens.split()]) for tokens in data_test['text_total']]\n",
        "\n",
        "#For Tokenization use below\n",
        "lemmatizer = WordNetLemmatizer()\n",
        "data_train['text_total'] = [[lemmatizer.lemmatize(word) for word in tokens] for tokens in data_train['text_total']]\n",
        "data_test['text_total'] = [[lemmatizer.lemmatize(word) for word in tokens] for tokens in data_test['text_total']]"
      ],
      "metadata": {
        "id": "IpByR04lBMwB"
      },
      "execution_count": null,
      "outputs": []
    },
    {
      "cell_type": "code",
      "source": [
        "data_train"
      ],
      "metadata": {
        "colab": {
          "base_uri": "https://localhost:8080/",
          "height": 554
        },
        "id": "b03MoZj1IIBx",
        "outputId": "cb342e49-b46a-49f2-d652-05dda52fecd5"
      },
      "execution_count": null,
      "outputs": [
        {
          "output_type": "execute_result",
          "data": {
            "text/plain": [
              "          id                                              title  \\\n",
              "0          0  House Dem Aide: We Didn’t Even See Comey’s Let...   \n",
              "1          1  FLYNN: Hillary Clinton, Big Woman on Campus - ...   \n",
              "2          2                  Why the Truth Might Get You Fired   \n",
              "3          3  15 Civilians Killed In Single US Airstrike Hav...   \n",
              "4          4  Iranian woman jailed for fictional unpublished...   \n",
              "...      ...                                                ...   \n",
              "20795  20795  Rapper T.I.: Trump a ’Poster Child For White S...   \n",
              "20796  20796  N.F.L. Playoffs: Schedule, Matchups and Odds -...   \n",
              "20797  20797  Macy’s Is Said to Receive Takeover Approach by...   \n",
              "20798  20798  NATO, Russia To Hold Parallel Exercises In Bal...   \n",
              "20799  20799                          What Keeps the F-35 Alive   \n",
              "\n",
              "                                          author  \\\n",
              "0                                  Darrell Lucus   \n",
              "1                                Daniel J. Flynn   \n",
              "2                             Consortiumnews.com   \n",
              "3                                Jessica Purkiss   \n",
              "4                                 Howard Portnoy   \n",
              "...                                          ...   \n",
              "20795                              Jerome Hudson   \n",
              "20796                           Benjamin Hoffman   \n",
              "20797  Michael J. de la Merced and Rachel Abrams   \n",
              "20798                                Alex Ansary   \n",
              "20799                              David Swanson   \n",
              "\n",
              "                                                    text  label  \\\n",
              "0      House Dem Aide: We Didn’t Even See Comey’s Let...      1   \n",
              "1      Ever get the feeling your life circles the rou...      0   \n",
              "2      Why the Truth Might Get You Fired October 29, ...      1   \n",
              "3      Videos 15 Civilians Killed In Single US Airstr...      1   \n",
              "4      Print \\nAn Iranian woman has been sentenced to...      1   \n",
              "...                                                  ...    ...   \n",
              "20795  Rapper T. I. unloaded on black celebrities who...      0   \n",
              "20796  When the Green Bay Packers lost to the Washing...      0   \n",
              "20797  The Macy’s of today grew from the union of sev...      0   \n",
              "20798  NATO, Russia To Hold Parallel Exercises In Bal...      1   \n",
              "20799    David Swanson is an author, activist, journa...      1   \n",
              "\n",
              "                                              text_total  \n",
              "0      [darrell, lucus, house, dem, aide, didnt, come...  \n",
              "1      [daniel, flynn, feeling, life, circle, roundab...  \n",
              "2      [truth, fired, october, tension, intelligence,...  \n",
              "3      [jessica, purkiss, video, civilian, killed, si...  \n",
              "4      [howard, portnoy, print, iranian, woman, sente...  \n",
              "...                                                  ...  \n",
              "20795  [jerome, hudson, rapper, unloaded, black, cele...  \n",
              "20796  [benjamin, hoffman, green, bay, packer, lost, ...  \n",
              "20797  [michael, la, merced, rachel, abrams, macys, t...  \n",
              "20798  [alex, ansary, nato, russia, hold, parallel, e...  \n",
              "20799  [david, swanson, david, swanson, author, activ...  \n",
              "\n",
              "[20800 rows x 6 columns]"
            ],
            "text/html": [
              "\n",
              "  <div id=\"df-a1895fa2-5dfd-49cf-8749-810c255b09d3\">\n",
              "    <div class=\"colab-df-container\">\n",
              "      <div>\n",
              "<style scoped>\n",
              "    .dataframe tbody tr th:only-of-type {\n",
              "        vertical-align: middle;\n",
              "    }\n",
              "\n",
              "    .dataframe tbody tr th {\n",
              "        vertical-align: top;\n",
              "    }\n",
              "\n",
              "    .dataframe thead th {\n",
              "        text-align: right;\n",
              "    }\n",
              "</style>\n",
              "<table border=\"1\" class=\"dataframe\">\n",
              "  <thead>\n",
              "    <tr style=\"text-align: right;\">\n",
              "      <th></th>\n",
              "      <th>id</th>\n",
              "      <th>title</th>\n",
              "      <th>author</th>\n",
              "      <th>text</th>\n",
              "      <th>label</th>\n",
              "      <th>text_total</th>\n",
              "    </tr>\n",
              "  </thead>\n",
              "  <tbody>\n",
              "    <tr>\n",
              "      <th>0</th>\n",
              "      <td>0</td>\n",
              "      <td>House Dem Aide: We Didn’t Even See Comey’s Let...</td>\n",
              "      <td>Darrell Lucus</td>\n",
              "      <td>House Dem Aide: We Didn’t Even See Comey’s Let...</td>\n",
              "      <td>1</td>\n",
              "      <td>[darrell, lucus, house, dem, aide, didnt, come...</td>\n",
              "    </tr>\n",
              "    <tr>\n",
              "      <th>1</th>\n",
              "      <td>1</td>\n",
              "      <td>FLYNN: Hillary Clinton, Big Woman on Campus - ...</td>\n",
              "      <td>Daniel J. Flynn</td>\n",
              "      <td>Ever get the feeling your life circles the rou...</td>\n",
              "      <td>0</td>\n",
              "      <td>[daniel, flynn, feeling, life, circle, roundab...</td>\n",
              "    </tr>\n",
              "    <tr>\n",
              "      <th>2</th>\n",
              "      <td>2</td>\n",
              "      <td>Why the Truth Might Get You Fired</td>\n",
              "      <td>Consortiumnews.com</td>\n",
              "      <td>Why the Truth Might Get You Fired October 29, ...</td>\n",
              "      <td>1</td>\n",
              "      <td>[truth, fired, october, tension, intelligence,...</td>\n",
              "    </tr>\n",
              "    <tr>\n",
              "      <th>3</th>\n",
              "      <td>3</td>\n",
              "      <td>15 Civilians Killed In Single US Airstrike Hav...</td>\n",
              "      <td>Jessica Purkiss</td>\n",
              "      <td>Videos 15 Civilians Killed In Single US Airstr...</td>\n",
              "      <td>1</td>\n",
              "      <td>[jessica, purkiss, video, civilian, killed, si...</td>\n",
              "    </tr>\n",
              "    <tr>\n",
              "      <th>4</th>\n",
              "      <td>4</td>\n",
              "      <td>Iranian woman jailed for fictional unpublished...</td>\n",
              "      <td>Howard Portnoy</td>\n",
              "      <td>Print \\nAn Iranian woman has been sentenced to...</td>\n",
              "      <td>1</td>\n",
              "      <td>[howard, portnoy, print, iranian, woman, sente...</td>\n",
              "    </tr>\n",
              "    <tr>\n",
              "      <th>...</th>\n",
              "      <td>...</td>\n",
              "      <td>...</td>\n",
              "      <td>...</td>\n",
              "      <td>...</td>\n",
              "      <td>...</td>\n",
              "      <td>...</td>\n",
              "    </tr>\n",
              "    <tr>\n",
              "      <th>20795</th>\n",
              "      <td>20795</td>\n",
              "      <td>Rapper T.I.: Trump a ’Poster Child For White S...</td>\n",
              "      <td>Jerome Hudson</td>\n",
              "      <td>Rapper T. I. unloaded on black celebrities who...</td>\n",
              "      <td>0</td>\n",
              "      <td>[jerome, hudson, rapper, unloaded, black, cele...</td>\n",
              "    </tr>\n",
              "    <tr>\n",
              "      <th>20796</th>\n",
              "      <td>20796</td>\n",
              "      <td>N.F.L. Playoffs: Schedule, Matchups and Odds -...</td>\n",
              "      <td>Benjamin Hoffman</td>\n",
              "      <td>When the Green Bay Packers lost to the Washing...</td>\n",
              "      <td>0</td>\n",
              "      <td>[benjamin, hoffman, green, bay, packer, lost, ...</td>\n",
              "    </tr>\n",
              "    <tr>\n",
              "      <th>20797</th>\n",
              "      <td>20797</td>\n",
              "      <td>Macy’s Is Said to Receive Takeover Approach by...</td>\n",
              "      <td>Michael J. de la Merced and Rachel Abrams</td>\n",
              "      <td>The Macy’s of today grew from the union of sev...</td>\n",
              "      <td>0</td>\n",
              "      <td>[michael, la, merced, rachel, abrams, macys, t...</td>\n",
              "    </tr>\n",
              "    <tr>\n",
              "      <th>20798</th>\n",
              "      <td>20798</td>\n",
              "      <td>NATO, Russia To Hold Parallel Exercises In Bal...</td>\n",
              "      <td>Alex Ansary</td>\n",
              "      <td>NATO, Russia To Hold Parallel Exercises In Bal...</td>\n",
              "      <td>1</td>\n",
              "      <td>[alex, ansary, nato, russia, hold, parallel, e...</td>\n",
              "    </tr>\n",
              "    <tr>\n",
              "      <th>20799</th>\n",
              "      <td>20799</td>\n",
              "      <td>What Keeps the F-35 Alive</td>\n",
              "      <td>David Swanson</td>\n",
              "      <td>David Swanson is an author, activist, journa...</td>\n",
              "      <td>1</td>\n",
              "      <td>[david, swanson, david, swanson, author, activ...</td>\n",
              "    </tr>\n",
              "  </tbody>\n",
              "</table>\n",
              "<p>20800 rows × 6 columns</p>\n",
              "</div>\n",
              "      <button class=\"colab-df-convert\" onclick=\"convertToInteractive('df-a1895fa2-5dfd-49cf-8749-810c255b09d3')\"\n",
              "              title=\"Convert this dataframe to an interactive table.\"\n",
              "              style=\"display:none;\">\n",
              "        \n",
              "  <svg xmlns=\"http://www.w3.org/2000/svg\" height=\"24px\"viewBox=\"0 0 24 24\"\n",
              "       width=\"24px\">\n",
              "    <path d=\"M0 0h24v24H0V0z\" fill=\"none\"/>\n",
              "    <path d=\"M18.56 5.44l.94 2.06.94-2.06 2.06-.94-2.06-.94-.94-2.06-.94 2.06-2.06.94zm-11 1L8.5 8.5l.94-2.06 2.06-.94-2.06-.94L8.5 2.5l-.94 2.06-2.06.94zm10 10l.94 2.06.94-2.06 2.06-.94-2.06-.94-.94-2.06-.94 2.06-2.06.94z\"/><path d=\"M17.41 7.96l-1.37-1.37c-.4-.4-.92-.59-1.43-.59-.52 0-1.04.2-1.43.59L10.3 9.45l-7.72 7.72c-.78.78-.78 2.05 0 2.83L4 21.41c.39.39.9.59 1.41.59.51 0 1.02-.2 1.41-.59l7.78-7.78 2.81-2.81c.8-.78.8-2.07 0-2.86zM5.41 20L4 18.59l7.72-7.72 1.47 1.35L5.41 20z\"/>\n",
              "  </svg>\n",
              "      </button>\n",
              "      \n",
              "  <style>\n",
              "    .colab-df-container {\n",
              "      display:flex;\n",
              "      flex-wrap:wrap;\n",
              "      gap: 12px;\n",
              "    }\n",
              "\n",
              "    .colab-df-convert {\n",
              "      background-color: #E8F0FE;\n",
              "      border: none;\n",
              "      border-radius: 50%;\n",
              "      cursor: pointer;\n",
              "      display: none;\n",
              "      fill: #1967D2;\n",
              "      height: 32px;\n",
              "      padding: 0 0 0 0;\n",
              "      width: 32px;\n",
              "    }\n",
              "\n",
              "    .colab-df-convert:hover {\n",
              "      background-color: #E2EBFA;\n",
              "      box-shadow: 0px 1px 2px rgba(60, 64, 67, 0.3), 0px 1px 3px 1px rgba(60, 64, 67, 0.15);\n",
              "      fill: #174EA6;\n",
              "    }\n",
              "\n",
              "    [theme=dark] .colab-df-convert {\n",
              "      background-color: #3B4455;\n",
              "      fill: #D2E3FC;\n",
              "    }\n",
              "\n",
              "    [theme=dark] .colab-df-convert:hover {\n",
              "      background-color: #434B5C;\n",
              "      box-shadow: 0px 1px 3px 1px rgba(0, 0, 0, 0.15);\n",
              "      filter: drop-shadow(0px 1px 2px rgba(0, 0, 0, 0.3));\n",
              "      fill: #FFFFFF;\n",
              "    }\n",
              "  </style>\n",
              "\n",
              "      <script>\n",
              "        const buttonEl =\n",
              "          document.querySelector('#df-a1895fa2-5dfd-49cf-8749-810c255b09d3 button.colab-df-convert');\n",
              "        buttonEl.style.display =\n",
              "          google.colab.kernel.accessAllowed ? 'block' : 'none';\n",
              "\n",
              "        async function convertToInteractive(key) {\n",
              "          const element = document.querySelector('#df-a1895fa2-5dfd-49cf-8749-810c255b09d3');\n",
              "          const dataTable =\n",
              "            await google.colab.kernel.invokeFunction('convertToInteractive',\n",
              "                                                     [key], {});\n",
              "          if (!dataTable) return;\n",
              "\n",
              "          const docLinkHtml = 'Like what you see? Visit the ' +\n",
              "            '<a target=\"_blank\" href=https://colab.research.google.com/notebooks/data_table.ipynb>data table notebook</a>'\n",
              "            + ' to learn more about interactive tables.';\n",
              "          element.innerHTML = '';\n",
              "          dataTable['output_type'] = 'display_data';\n",
              "          await google.colab.output.renderOutput(dataTable, element);\n",
              "          const docLink = document.createElement('div');\n",
              "          docLink.innerHTML = docLinkHtml;\n",
              "          element.appendChild(docLink);\n",
              "        }\n",
              "      </script>\n",
              "    </div>\n",
              "  </div>\n",
              "  "
            ]
          },
          "metadata": {},
          "execution_count": 151
        }
      ]
    },
    {
      "cell_type": "code",
      "execution_count": null,
      "metadata": {
        "id": "0aua-_2rcCCE"
      },
      "outputs": [],
      "source": [
        "#data_train[\"preprop_text\"] = preprocess_text(data_train[\"text_total\"])\n"
      ]
    },
    {
      "cell_type": "code",
      "execution_count": null,
      "metadata": {
        "id": "RpUKWD4P7LTG"
      },
      "outputs": [],
      "source": [
        "#data_test[\"preprop_text\"] = preprocess_text(data_test[\"text_total\"])"
      ]
    },
    {
      "cell_type": "code",
      "execution_count": null,
      "metadata": {
        "id": "a3X-FzKCcB8f"
      },
      "outputs": [],
      "source": [
        "#def decontracted(phrase):\n",
        "#    phrase = re.sub(r\"won't\", \"will not\", phrase)\n",
        "#    phrase = re.sub(r\"can \\' t\", \"can not\", phrase)\n",
        "#    phrase = re.sub(r\"n \\' t\", \" not\", phrase)\n",
        "#    phrase = re.sub(r\" \\' re\", \" are\", phrase)\n",
        "#    phrase = re.sub(r\" \\' s\", \" is\", phrase)\n",
        "#    phrase = re.sub(r\" \\' d\", \" would\", phrase)\n",
        "#    phrase = re.sub(r\" \\' ll\", \" will\", phrase)\n",
        "#    phrase = re.sub(r\" \\' t\", \" not\", phrase)\n",
        "#    phrase = re.sub(r\" \\' ve\", \" have\", phrase)\n",
        "#    phrase = re.sub(r\" \\' m\", \" am\", phrase)\n",
        "       "
      ]
    },
    {
      "cell_type": "code",
      "execution_count": null,
      "metadata": {
        "id": "Z6tCuCYaoIBW"
      },
      "outputs": [],
      "source": [
        "#data_train['preprop_text']=data_train['preprop_text'].apply(lambda z: decontracted(z))\n"
      ]
    },
    {
      "cell_type": "code",
      "execution_count": null,
      "metadata": {
        "id": "B_Qn_6NF53GC"
      },
      "outputs": [],
      "source": [
        "#data_test['preprop_text']=data_test['preprop_text'].apply(lambda z: decontracted(z))"
      ]
    },
    {
      "cell_type": "code",
      "execution_count": null,
      "metadata": {
        "id": "QWpvc-HSrqy8"
      },
      "outputs": [],
      "source": [
        "#len(data_train)"
      ]
    },
    {
      "cell_type": "code",
      "execution_count": null,
      "metadata": {
        "id": "KiDyOS6drqy8"
      },
      "outputs": [],
      "source": [
        "#data_test['preprop_text'][2]"
      ]
    },
    {
      "cell_type": "markdown",
      "metadata": {
        "id": "JPA4pEyqu5tI"
      },
      "source": [
        "# Applying  Lemmatization "
      ]
    },
    {
      "cell_type": "markdown",
      "metadata": {
        "id": "_OnmCwd6rqy8"
      },
      "source": [
        "Applied stemming as its faster compared to Lemmatization eventhough Lemmatization gives good result but its costly for large datasets"
      ]
    },
    {
      "cell_type": "code",
      "execution_count": null,
      "metadata": {
        "id": "iw5o0Iyku5Lj"
      },
      "outputs": [],
      "source": [
        "from nltk.stem import PorterStemmer\n",
        "ps = PorterStemmer() # creating an object of potter stemmer\n",
        "\n",
        "applying to the dataframe\n",
        "data_processed_test[\"preprop_text\"] = data_processed_test[\"preprop_text\"].apply(lambda x : \" \".join(ps.stem(val) for val in x.split()))"
      ]
    },
    {
      "cell_type": "code",
      "execution_count": null,
      "metadata": {
        "id": "j18F8vSmoH8S"
      },
      "outputs": [],
      "source": [
        "ps = PorterStemmer() ## creating an object of potter stemmer\n",
        "\n",
        "# applying to the dataframe\n",
        "data_processed[\"preprop_text\"] = data_processed[\"preprop_text\"].apply(lambda x : \" \".join(ps.stem(val) for val in x.split()))"
      ]
    },
    {
      "cell_type": "code",
      "execution_count": null,
      "metadata": {
        "id": "UaHRI-Vbrqy9"
      },
      "outputs": [],
      "source": [
        "#l[0]"
      ]
    },
    {
      "cell_type": "code",
      "execution_count": null,
      "metadata": {
        "id": "AvTbop26oH1u"
      },
      "outputs": [],
      "source": [
        "data_processed_test[\"preprop_text\"][1]"
      ]
    },
    {
      "cell_type": "code",
      "execution_count": null,
      "metadata": {
        "id": "QB2_ahtmrqy9"
      },
      "outputs": [],
      "source": [
        "for d in data_processed[\"preprop_text\"]:\n",
        "   print(d)"
      ]
    },
    {
      "cell_type": "code",
      "execution_count": null,
      "metadata": {
        "id": "Us4C9KtWrqy9"
      },
      "outputs": [],
      "source": [
        "l=[]\n",
        "for i in data_processed[\"preprop_text\"]:\n",
        "   l.append(i)\n",
        "l"
      ]
    },
    {
      "cell_type": "code",
      "execution_count": null,
      "metadata": {
        "id": "a1LRPfysrqy-"
      },
      "outputs": [],
      "source": [
        "#m=[]\n",
        "#for j in data_processed_test[\"preprop_text\"]:\n",
        "#    m.append(j)\n",
        "#m"
      ]
    },
    {
      "cell_type": "code",
      "execution_count": null,
      "metadata": {
        "id": "Y8Vr1xF1rqy-"
      },
      "outputs": [],
      "source": [
        "#len(m)"
      ]
    },
    {
      "cell_type": "code",
      "source": [
        "def convert_list_to_string(sen):\n",
        "  text = [str(x) for x in sen]\n",
        "  text = ' '.join(text)\n",
        "  return text"
      ],
      "metadata": {
        "id": "nCA2Q77SCico"
      },
      "execution_count": null,
      "outputs": []
    },
    {
      "cell_type": "markdown",
      "metadata": {
        "id": "lDd0wvzWXuDM"
      },
      "source": [
        "# Supervised Learning for WordEmbedding\n",
        "\n",
        "1) I am going to use RNN as it does not label the words while wordembedding"
      ]
    },
    {
      "cell_type": "code",
      "execution_count": null,
      "metadata": {
        "id": "h0ZNBDS4Xg8G"
      },
      "outputs": [],
      "source": [
        "import numpy as np\n",
        "from tensorflow.keras.preprocessing.text import one_hot\n",
        "from tensorflow.keras.preprocessing.sequence import pad_sequences\n",
        "from tensorflow.keras.models import Sequential\n",
        "from tensorflow.keras.layers import Dense\n",
        "from tensorflow.keras.layers import Flatten\n",
        "from tensorflow.keras.layers import Embedding\n"
      ]
    },
    {
      "cell_type": "code",
      "execution_count": null,
      "metadata": {
        "id": "ehAGW5pyrqy-"
      },
      "outputs": [],
      "source": [
        "from tensorflow.keras.layers import LSTM,Dense,Dropout"
      ]
    },
    {
      "cell_type": "code",
      "execution_count": null,
      "metadata": {
        "colab": {
          "base_uri": "https://localhost:8080/"
        },
        "id": "dqjL8trCXhBG",
        "outputId": "ea3f02ce-51c1-41bb-98e5-c3a491cbc5e1"
      },
      "outputs": [
        {
          "output_type": "stream",
          "name": "stderr",
          "text": [
            "IOPub data rate exceeded.\n",
            "The notebook server will temporarily stop sending output\n",
            "to the client in order to avoid crashing it.\n",
            "To change this limit, set the config variable\n",
            "`--NotebookApp.iopub_data_rate_limit`.\n",
            "\n",
            "Current values:\n",
            "NotebookApp.iopub_data_rate_limit=1000000.0 (bytes/sec)\n",
            "NotebookApp.rate_limit_window=3.0 (secs)\n",
            "\n"
          ]
        }
      ],
      "source": [
        "vocab_size = 5000\n",
        "encoded_txt_train = [one_hot(d, vocab_size) for d in data_train[\"text_total\"]]\n",
        "print(encoded_txt_train)"
      ]
    },
    {
      "cell_type": "code",
      "execution_count": null,
      "metadata": {
        "colab": {
          "base_uri": "https://localhost:8080/"
        },
        "id": "fm1QYRfsXhH5",
        "outputId": "bd494c7a-afbb-4f06-ff16-15cbb122b5fc"
      },
      "outputs": [
        {
          "output_type": "stream",
          "name": "stderr",
          "text": [
            "IOPub data rate exceeded.\n",
            "The notebook server will temporarily stop sending output\n",
            "to the client in order to avoid crashing it.\n",
            "To change this limit, set the config variable\n",
            "`--NotebookApp.iopub_data_rate_limit`.\n",
            "\n",
            "Current values:\n",
            "NotebookApp.iopub_data_rate_limit=1000000.0 (bytes/sec)\n",
            "NotebookApp.rate_limit_window=3.0 (secs)\n",
            "\n"
          ]
        }
      ],
      "source": [
        "vocab_size = 5000\n",
        "encoded_txt_test = [one_hot(d, vocab_size) for d in data_test[\"text_total\"]]\n",
        "print(encoded_txt_test)"
      ]
    },
    {
      "cell_type": "code",
      "execution_count": null,
      "metadata": {
        "id": "XEPOn6FZrqy_",
        "colab": {
          "base_uri": "https://localhost:8080/"
        },
        "outputId": "274ce344-334e-49e2-d9cf-9b5570ee9b40"
      },
      "outputs": [
        {
          "output_type": "execute_result",
          "data": {
            "text/plain": [
              "5200"
            ]
          },
          "metadata": {},
          "execution_count": 65
        }
      ],
      "source": [
        "len(data_test)"
      ]
    },
    {
      "cell_type": "code",
      "execution_count": null,
      "metadata": {
        "id": "4cR9XaKnrqy_"
      },
      "outputs": [],
      "source": [
        "padding_train = pad_sequences(encoded_txt_train,padding='pre',maxlen=25)\n",
        "padding_test = pad_sequences(encoded_txt_test,padding='pre',maxlen=25)"
      ]
    },
    {
      "cell_type": "code",
      "execution_count": null,
      "metadata": {
        "id": "Ga0TOAVyrqy_"
      },
      "outputs": [],
      "source": [
        "#y_train=data_train['label']\n",
        "y_train=y"
      ]
    },
    {
      "cell_type": "code",
      "execution_count": null,
      "metadata": {
        "id": "-xYPEPEzrqzA"
      },
      "outputs": [],
      "source": [
        "#y_test=data_test['label']"
      ]
    },
    {
      "cell_type": "code",
      "execution_count": null,
      "metadata": {
        "id": "hTvRonMerqzA",
        "colab": {
          "base_uri": "https://localhost:8080/"
        },
        "outputId": "dd6be3c3-3052-49a6-a9c2-f3f68baa252e"
      },
      "outputs": [
        {
          "output_type": "execute_result",
          "data": {
            "text/plain": [
              "20800"
            ]
          },
          "metadata": {},
          "execution_count": 69
        }
      ],
      "source": [
        "y_train.size"
      ]
    },
    {
      "cell_type": "code",
      "execution_count": null,
      "metadata": {
        "id": "aafq4wUZrqzA",
        "colab": {
          "base_uri": "https://localhost:8080/"
        },
        "outputId": "d25c22a0-2aa7-4df9-d95e-edeecdc10ae1"
      },
      "outputs": [
        {
          "output_type": "execute_result",
          "data": {
            "text/plain": [
              "20800"
            ]
          },
          "metadata": {},
          "execution_count": 70
        }
      ],
      "source": [
        "len(padding_train)"
      ]
    },
    {
      "cell_type": "code",
      "execution_count": null,
      "metadata": {
        "id": "fJ_Lc2FNrqzA",
        "colab": {
          "base_uri": "https://localhost:8080/"
        },
        "outputId": "f08936be-d967-47e9-c159-1e029f832697"
      },
      "outputs": [
        {
          "output_type": "execute_result",
          "data": {
            "text/plain": [
              "5200"
            ]
          },
          "metadata": {},
          "execution_count": 71
        }
      ],
      "source": [
        "len(padding_test)"
      ]
    },
    {
      "cell_type": "markdown",
      "metadata": {
        "id": "1sx5fSwqrqzA"
      },
      "source": [
        "# RNN model"
      ]
    },
    {
      "cell_type": "markdown",
      "metadata": {
        "id": "2wqKAmJKrqzA"
      },
      "source": [
        "I am using LSTM here can also use GRU as its useful to solve vanishing gradient descent and also as we know our RNN model have short term memory thses LSTM layers and GRU helps in rembering some important words that may be forgotten by our model"
      ]
    },
    {
      "cell_type": "code",
      "execution_count": null,
      "metadata": {
        "id": "uT8cJpECrqzB"
      },
      "outputs": [],
      "source": [
        ""
      ]
    },
    {
      "cell_type": "code",
      "execution_count": null,
      "metadata": {
        "id": "ACVaYnSKrqzB"
      },
      "outputs": [],
      "source": [
        "model = Sequential()\n",
        "model.add(Embedding(vocab_size,40,input_length=25))\n",
        "model.add(Dropout(0.3))\n",
        "model.add(LSTM(100))\n",
        "model.add(Dropout(0.3))\n",
        "model.add(Dense(64,activation='LeakyReLU'))\n",
        "model.add(Dropout(0.3))\n",
        "model.add(Dense(1,activation='sigmoid'))\n"
      ]
    },
    {
      "cell_type": "code",
      "execution_count": null,
      "metadata": {
        "id": "uH0qBLOOrqzB",
        "colab": {
          "base_uri": "https://localhost:8080/"
        },
        "outputId": "49666910-3608-43a4-ea87-4aefad63e3ab"
      },
      "outputs": [
        {
          "output_type": "stream",
          "name": "stdout",
          "text": [
            "Model: \"sequential\"\n",
            "_________________________________________________________________\n",
            " Layer (type)                Output Shape              Param #   \n",
            "=================================================================\n",
            " embedding (Embedding)       (None, 25, 40)            200000    \n",
            "                                                                 \n",
            " dropout (Dropout)           (None, 25, 40)            0         \n",
            "                                                                 \n",
            " lstm (LSTM)                 (None, 100)               56400     \n",
            "                                                                 \n",
            " dropout_1 (Dropout)         (None, 100)               0         \n",
            "                                                                 \n",
            " dense (Dense)               (None, 64)                6464      \n",
            "                                                                 \n",
            " dropout_2 (Dropout)         (None, 64)                0         \n",
            "                                                                 \n",
            " dense_1 (Dense)             (None, 1)                 65        \n",
            "                                                                 \n",
            "=================================================================\n",
            "Total params: 262,929\n",
            "Trainable params: 262,929\n",
            "Non-trainable params: 0\n",
            "_________________________________________________________________\n",
            "None\n"
          ]
        }
      ],
      "source": [
        "model.compile(loss='binary_crossentropy',optimizer='adam',metrics=['accuracy'])\n",
        "print(model.summary())"
      ]
    },
    {
      "cell_type": "code",
      "execution_count": null,
      "metadata": {
        "id": "aKJzEpQ2rqzB",
        "colab": {
          "base_uri": "https://localhost:8080/"
        },
        "outputId": "70d25932-c090-4c8a-d57e-7b972180b7c2"
      },
      "outputs": [
        {
          "output_type": "execute_result",
          "data": {
            "text/plain": [
              "((20800, 25), (20800,), (5200, 25))"
            ]
          },
          "metadata": {},
          "execution_count": 74
        }
      ],
      "source": [
        "X_train = np.array(padding_train)\n",
        "y_train_new = np.array(y_train)\n",
        "X_test = np.array(padding_test)\n",
        "X_train.shape,y_train_new.shape,X_test.shape"
      ]
    },
    {
      "cell_type": "code",
      "execution_count": null,
      "metadata": {
        "id": "gkPkNIa1rqzB",
        "colab": {
          "base_uri": "https://localhost:8080/"
        },
        "outputId": "5c030cd4-1ecb-4f34-9f01-0106159d7419"
      },
      "outputs": [
        {
          "output_type": "execute_result",
          "data": {
            "text/plain": [
              "array([1, 0, 1, ..., 0, 1, 1])"
            ]
          },
          "metadata": {},
          "execution_count": 75
        }
      ],
      "source": [
        "y_train_new"
      ]
    },
    {
      "cell_type": "code",
      "execution_count": null,
      "metadata": {
        "id": "cT8WLeKerqzB",
        "colab": {
          "base_uri": "https://localhost:8080/"
        },
        "outputId": "ade009a8-c50f-43b0-af00-303b1d4989de"
      },
      "outputs": [
        {
          "output_type": "stream",
          "name": "stdout",
          "text": [
            "Epoch 1/20\n",
            "325/325 [==============================] - 9s 6ms/step - loss: 0.3130 - accuracy: 0.8514\n",
            "Epoch 2/20\n",
            "325/325 [==============================] - 2s 5ms/step - loss: 0.1808 - accuracy: 0.9258\n",
            "Epoch 3/20\n",
            "325/325 [==============================] - 2s 5ms/step - loss: 0.1337 - accuracy: 0.9485\n",
            "Epoch 4/20\n",
            "325/325 [==============================] - 2s 5ms/step - loss: 0.1004 - accuracy: 0.9628\n",
            "Epoch 5/20\n",
            "325/325 [==============================] - 2s 5ms/step - loss: 0.0776 - accuracy: 0.9709\n",
            "Epoch 6/20\n",
            "325/325 [==============================] - 2s 5ms/step - loss: 0.0607 - accuracy: 0.9775\n",
            "Epoch 7/20\n",
            "325/325 [==============================] - 2s 5ms/step - loss: 0.0465 - accuracy: 0.9825\n",
            "Epoch 8/20\n",
            "325/325 [==============================] - 2s 5ms/step - loss: 0.0335 - accuracy: 0.9869\n",
            "Epoch 9/20\n",
            "325/325 [==============================] - 2s 5ms/step - loss: 0.0328 - accuracy: 0.9881\n",
            "Epoch 10/20\n",
            "325/325 [==============================] - 2s 5ms/step - loss: 0.0276 - accuracy: 0.9899\n",
            "Epoch 11/20\n",
            "325/325 [==============================] - 2s 5ms/step - loss: 0.0240 - accuracy: 0.9915\n",
            "Epoch 12/20\n",
            "325/325 [==============================] - 2s 5ms/step - loss: 0.0196 - accuracy: 0.9927\n",
            "Epoch 13/20\n",
            "325/325 [==============================] - 2s 6ms/step - loss: 0.0177 - accuracy: 0.9927\n",
            "Epoch 14/20\n",
            "325/325 [==============================] - 2s 6ms/step - loss: 0.0181 - accuracy: 0.9930\n",
            "Epoch 15/20\n",
            "325/325 [==============================] - 2s 5ms/step - loss: 0.0141 - accuracy: 0.9950\n",
            "Epoch 16/20\n",
            "325/325 [==============================] - 2s 5ms/step - loss: 0.0136 - accuracy: 0.9952\n",
            "Epoch 17/20\n",
            "325/325 [==============================] - 2s 6ms/step - loss: 0.0125 - accuracy: 0.9958\n",
            "Epoch 18/20\n",
            "325/325 [==============================] - 2s 6ms/step - loss: 0.0105 - accuracy: 0.9959\n",
            "Epoch 19/20\n",
            "325/325 [==============================] - 2s 5ms/step - loss: 0.0104 - accuracy: 0.9970\n",
            "Epoch 20/20\n",
            "325/325 [==============================] - 2s 5ms/step - loss: 0.0105 - accuracy: 0.9964\n"
          ]
        },
        {
          "output_type": "execute_result",
          "data": {
            "text/plain": [
              "<keras.callbacks.History at 0x7f751cebb9d0>"
            ]
          },
          "metadata": {},
          "execution_count": 76
        }
      ],
      "source": [
        "model.fit(X_train,y_train_new,epochs=20,batch_size=64)\n"
      ]
    },
    {
      "cell_type": "code",
      "execution_count": null,
      "metadata": {
        "id": "jApXfAFarqzC"
      },
      "outputs": [],
      "source": [
        "#y_test_some=model.predict('Russian warships ready to strike terrorists near Aleppo')"
      ]
    },
    {
      "cell_type": "code",
      "execution_count": null,
      "metadata": {
        "id": "cF2xrJc2rqzC"
      },
      "outputs": [],
      "source": [
        " #= model.predict_classes(X_test)\n",
        "y_pred = model.predict(X_test)\n",
        "y_pred = np.round(y_pred).astype(int)"
      ]
    },
    {
      "cell_type": "code",
      "execution_count": null,
      "metadata": {
        "id": "RjLNT8FerqzC"
      },
      "outputs": [],
      "source": [
        "#classes_x"
      ]
    },
    {
      "cell_type": "code",
      "execution_count": null,
      "metadata": {
        "id": "dvTglZJZrqzC"
      },
      "outputs": [],
      "source": [
        "nlp_proj = pd.DataFrame()\n",
        "nlp_proj['id']=data_test['id']\n",
        "nlp_proj['label'] = y_pred"
      ]
    },
    {
      "cell_type": "code",
      "execution_count": null,
      "metadata": {
        "id": "46JAFq7WrqzC",
        "colab": {
          "base_uri": "https://localhost:8080/",
          "height": 424
        },
        "outputId": "4da2ccf9-ab33-43bc-b4e8-c38368ae94b3"
      },
      "outputs": [
        {
          "output_type": "execute_result",
          "data": {
            "text/plain": [
              "         id  label\n",
              "0     20800      0\n",
              "1     20801      1\n",
              "2     20802      1\n",
              "3     20803      0\n",
              "4     20804      1\n",
              "...     ...    ...\n",
              "5195  25995      1\n",
              "5196  25996      0\n",
              "5197  25997      0\n",
              "5198  25998      1\n",
              "5199  25999      0\n",
              "\n",
              "[5200 rows x 2 columns]"
            ],
            "text/html": [
              "\n",
              "  <div id=\"df-d431e6e3-8802-4305-9871-b37ef5ba1245\">\n",
              "    <div class=\"colab-df-container\">\n",
              "      <div>\n",
              "<style scoped>\n",
              "    .dataframe tbody tr th:only-of-type {\n",
              "        vertical-align: middle;\n",
              "    }\n",
              "\n",
              "    .dataframe tbody tr th {\n",
              "        vertical-align: top;\n",
              "    }\n",
              "\n",
              "    .dataframe thead th {\n",
              "        text-align: right;\n",
              "    }\n",
              "</style>\n",
              "<table border=\"1\" class=\"dataframe\">\n",
              "  <thead>\n",
              "    <tr style=\"text-align: right;\">\n",
              "      <th></th>\n",
              "      <th>id</th>\n",
              "      <th>label</th>\n",
              "    </tr>\n",
              "  </thead>\n",
              "  <tbody>\n",
              "    <tr>\n",
              "      <th>0</th>\n",
              "      <td>20800</td>\n",
              "      <td>0</td>\n",
              "    </tr>\n",
              "    <tr>\n",
              "      <th>1</th>\n",
              "      <td>20801</td>\n",
              "      <td>1</td>\n",
              "    </tr>\n",
              "    <tr>\n",
              "      <th>2</th>\n",
              "      <td>20802</td>\n",
              "      <td>1</td>\n",
              "    </tr>\n",
              "    <tr>\n",
              "      <th>3</th>\n",
              "      <td>20803</td>\n",
              "      <td>0</td>\n",
              "    </tr>\n",
              "    <tr>\n",
              "      <th>4</th>\n",
              "      <td>20804</td>\n",
              "      <td>1</td>\n",
              "    </tr>\n",
              "    <tr>\n",
              "      <th>...</th>\n",
              "      <td>...</td>\n",
              "      <td>...</td>\n",
              "    </tr>\n",
              "    <tr>\n",
              "      <th>5195</th>\n",
              "      <td>25995</td>\n",
              "      <td>1</td>\n",
              "    </tr>\n",
              "    <tr>\n",
              "      <th>5196</th>\n",
              "      <td>25996</td>\n",
              "      <td>0</td>\n",
              "    </tr>\n",
              "    <tr>\n",
              "      <th>5197</th>\n",
              "      <td>25997</td>\n",
              "      <td>0</td>\n",
              "    </tr>\n",
              "    <tr>\n",
              "      <th>5198</th>\n",
              "      <td>25998</td>\n",
              "      <td>1</td>\n",
              "    </tr>\n",
              "    <tr>\n",
              "      <th>5199</th>\n",
              "      <td>25999</td>\n",
              "      <td>0</td>\n",
              "    </tr>\n",
              "  </tbody>\n",
              "</table>\n",
              "<p>5200 rows × 2 columns</p>\n",
              "</div>\n",
              "      <button class=\"colab-df-convert\" onclick=\"convertToInteractive('df-d431e6e3-8802-4305-9871-b37ef5ba1245')\"\n",
              "              title=\"Convert this dataframe to an interactive table.\"\n",
              "              style=\"display:none;\">\n",
              "        \n",
              "  <svg xmlns=\"http://www.w3.org/2000/svg\" height=\"24px\"viewBox=\"0 0 24 24\"\n",
              "       width=\"24px\">\n",
              "    <path d=\"M0 0h24v24H0V0z\" fill=\"none\"/>\n",
              "    <path d=\"M18.56 5.44l.94 2.06.94-2.06 2.06-.94-2.06-.94-.94-2.06-.94 2.06-2.06.94zm-11 1L8.5 8.5l.94-2.06 2.06-.94-2.06-.94L8.5 2.5l-.94 2.06-2.06.94zm10 10l.94 2.06.94-2.06 2.06-.94-2.06-.94-.94-2.06-.94 2.06-2.06.94z\"/><path d=\"M17.41 7.96l-1.37-1.37c-.4-.4-.92-.59-1.43-.59-.52 0-1.04.2-1.43.59L10.3 9.45l-7.72 7.72c-.78.78-.78 2.05 0 2.83L4 21.41c.39.39.9.59 1.41.59.51 0 1.02-.2 1.41-.59l7.78-7.78 2.81-2.81c.8-.78.8-2.07 0-2.86zM5.41 20L4 18.59l7.72-7.72 1.47 1.35L5.41 20z\"/>\n",
              "  </svg>\n",
              "      </button>\n",
              "      \n",
              "  <style>\n",
              "    .colab-df-container {\n",
              "      display:flex;\n",
              "      flex-wrap:wrap;\n",
              "      gap: 12px;\n",
              "    }\n",
              "\n",
              "    .colab-df-convert {\n",
              "      background-color: #E8F0FE;\n",
              "      border: none;\n",
              "      border-radius: 50%;\n",
              "      cursor: pointer;\n",
              "      display: none;\n",
              "      fill: #1967D2;\n",
              "      height: 32px;\n",
              "      padding: 0 0 0 0;\n",
              "      width: 32px;\n",
              "    }\n",
              "\n",
              "    .colab-df-convert:hover {\n",
              "      background-color: #E2EBFA;\n",
              "      box-shadow: 0px 1px 2px rgba(60, 64, 67, 0.3), 0px 1px 3px 1px rgba(60, 64, 67, 0.15);\n",
              "      fill: #174EA6;\n",
              "    }\n",
              "\n",
              "    [theme=dark] .colab-df-convert {\n",
              "      background-color: #3B4455;\n",
              "      fill: #D2E3FC;\n",
              "    }\n",
              "\n",
              "    [theme=dark] .colab-df-convert:hover {\n",
              "      background-color: #434B5C;\n",
              "      box-shadow: 0px 1px 3px 1px rgba(0, 0, 0, 0.15);\n",
              "      filter: drop-shadow(0px 1px 2px rgba(0, 0, 0, 0.3));\n",
              "      fill: #FFFFFF;\n",
              "    }\n",
              "  </style>\n",
              "\n",
              "      <script>\n",
              "        const buttonEl =\n",
              "          document.querySelector('#df-d431e6e3-8802-4305-9871-b37ef5ba1245 button.colab-df-convert');\n",
              "        buttonEl.style.display =\n",
              "          google.colab.kernel.accessAllowed ? 'block' : 'none';\n",
              "\n",
              "        async function convertToInteractive(key) {\n",
              "          const element = document.querySelector('#df-d431e6e3-8802-4305-9871-b37ef5ba1245');\n",
              "          const dataTable =\n",
              "            await google.colab.kernel.invokeFunction('convertToInteractive',\n",
              "                                                     [key], {});\n",
              "          if (!dataTable) return;\n",
              "\n",
              "          const docLinkHtml = 'Like what you see? Visit the ' +\n",
              "            '<a target=\"_blank\" href=https://colab.research.google.com/notebooks/data_table.ipynb>data table notebook</a>'\n",
              "            + ' to learn more about interactive tables.';\n",
              "          element.innerHTML = '';\n",
              "          dataTable['output_type'] = 'display_data';\n",
              "          await google.colab.output.renderOutput(dataTable, element);\n",
              "          const docLink = document.createElement('div');\n",
              "          docLink.innerHTML = docLinkHtml;\n",
              "          element.appendChild(docLink);\n",
              "        }\n",
              "      </script>\n",
              "    </div>\n",
              "  </div>\n",
              "  "
            ]
          },
          "metadata": {},
          "execution_count": 81
        }
      ],
      "source": [
        "nlp_proj"
      ]
    },
    {
      "cell_type": "code",
      "execution_count": null,
      "metadata": {
        "id": "GHPxdaDFrqzC"
      },
      "outputs": [],
      "source": [
        "#final_sub['label'].value_counts()"
      ]
    },
    {
      "cell_type": "code",
      "execution_count": null,
      "metadata": {
        "id": "oLV_4L9VrqzD"
      },
      "outputs": [],
      "source": [
        "#final_sub"
      ]
    },
    {
      "cell_type": "code",
      "execution_count": null,
      "metadata": {
        "id": "kbd_4EMPrqzD"
      },
      "outputs": [],
      "source": [
        "nlp_proj.to_csv('NLP_Project_RNN.csv')"
      ]
    },
    {
      "cell_type": "markdown",
      "metadata": {
        "id": "31Z5PJZWrqzD"
      },
      "source": [
        "# TF-IDF \n",
        "Another Vectorization Approach  (better than bagofwords). Handles frequency of frequent occuring element and helps in the words that we want the machine to give importance. Highlighting the unique word"
      ]
    },
    {
      "cell_type": "code",
      "source": [
        "sentences = data_train['text_total'].apply(convert_list_to_string)\n",
        "test_sentences =data_test['text_total'].apply(convert_list_to_string)"
      ],
      "metadata": {
        "id": "5OfiWbTDClCq"
      },
      "execution_count": null,
      "outputs": []
    },
    {
      "cell_type": "code",
      "execution_count": null,
      "metadata": {
        "colab": {
          "base_uri": "https://localhost:8080/"
        },
        "id": "nxmAiSKGrqzD",
        "outputId": "ca451772-2a33-4087-8d5e-c96722e5d453"
      },
      "outputs": [
        {
          "output_type": "execute_result",
          "data": {
            "text/plain": [
              "0    1\n",
              "1    0\n",
              "2    1\n",
              "3    1\n",
              "4    1\n",
              "Name: label, dtype: int64"
            ]
          },
          "metadata": {},
          "execution_count": 154
        }
      ],
      "source": [
        "y.head()"
      ]
    },
    {
      "cell_type": "code",
      "execution_count": null,
      "metadata": {
        "colab": {
          "base_uri": "https://localhost:8080/"
        },
        "id": "7oVSW4ZurqzE",
        "outputId": "5c0fa489-b564-4c77-e48b-9d664fdff326"
      },
      "outputs": [
        {
          "output_type": "execute_result",
          "data": {
            "text/plain": [
              "((16640,), (4160,), (16640,), (4160,))"
            ]
          },
          "metadata": {},
          "execution_count": 155
        }
      ],
      "source": [
        "from sklearn.model_selection import train_test_split\n",
        "\n",
        "# splitting of data\n",
        "\n",
        "\n",
        "xtrain1, xval, ytrain1, yval = train_test_split(sentences, y, stratify = y, test_size=0.20, random_state=42)\n",
        "xtrain1.shape, xval.shape, ytrain1.shape, yval.shape "
      ]
    },
    {
      "cell_type": "code",
      "execution_count": null,
      "metadata": {
        "colab": {
          "base_uri": "https://localhost:8080/"
        },
        "id": "m6TEtGmErqzE",
        "outputId": "c797b76f-4dad-41de-87d1-157f649dca08"
      },
      "outputs": [
        {
          "output_type": "execute_result",
          "data": {
            "text/plain": [
              "18697    yamiche alcindor washington attorney general e...\n",
              "19320    erik eckholm gov mary fallin oklahoma vetoed f...\n",
              "13879    communal harmony anandi sharan november monday...\n",
              "15282    nadia prupis terrifying att spying american pr...\n",
              "17746    news effort prove credibility undercover donor...\n",
              "Name: text_total, dtype: object"
            ]
          },
          "metadata": {},
          "execution_count": 156
        }
      ],
      "source": [
        "xtrain1.head()"
      ]
    },
    {
      "cell_type": "code",
      "execution_count": null,
      "metadata": {
        "colab": {
          "base_uri": "https://localhost:8080/"
        },
        "id": "YEBtulVSrqzE",
        "outputId": "dd1719ba-d2d4-40fb-bc8f-2227c629d0e4"
      },
      "outputs": [
        {
          "output_type": "stream",
          "name": "stdout",
          "text": [
            "xtrain shape : (16640, 5000), xtest shape : (4160, 5000)\n"
          ]
        }
      ],
      "source": [
        "from sklearn.feature_extraction.text import TfidfVectorizer\n",
        "\n",
        "## initializing count vectorizer\n",
        "tfidf_vect = TfidfVectorizer(analyzer='word', ngram_range=(1, 3), \n",
        "                             stop_words=\"english\", min_df = 10, max_df = 0.95, max_features = 5000)\n",
        "## fitting data\n",
        "tfidf_vect.fit(xtrain1)\n",
        "\n",
        "## transforming data\n",
        "xtrain_tfidf =  tfidf_vect.transform(xtrain1)\n",
        "xtest_tfidf =  tfidf_vect.transform(xval)\n",
        "\n",
        "print(f\"xtrain shape : {xtrain_tfidf.shape}, xtest shape : {xtest_tfidf.shape}\")"
      ]
    },
    {
      "cell_type": "code",
      "execution_count": null,
      "metadata": {
        "colab": {
          "base_uri": "https://localhost:8080/"
        },
        "id": "JXznYmjArqzE",
        "outputId": "0457b895-8924-40ce-b09b-4a57ebdb35b0"
      },
      "outputs": [
        {
          "output_type": "execute_result",
          "data": {
            "text/plain": [
              "(5200, 5000)"
            ]
          },
          "metadata": {},
          "execution_count": 167
        }
      ],
      "source": [
        "#Submission kaggle score\n",
        "xtest_kaggle =  tfidf_vect.transform(test_sentences)\n",
        "xtest_kaggle.shape"
      ]
    },
    {
      "cell_type": "code",
      "execution_count": null,
      "metadata": {
        "id": "6qc-Pm8trqzE"
      },
      "outputs": [],
      "source": [
        "#xtest_kaggle.idf"
      ]
    },
    {
      "cell_type": "markdown",
      "source": [
        "#### Logistic Regression with  TFIDF\n",
        "\n"
      ],
      "metadata": {
        "id": "Pk4r5XPoo9_3"
      }
    },
    {
      "cell_type": "code",
      "source": [
        "lr = LogisticRegression()\n",
        "\n",
        "lr.fit(xtrain_tfidf, ytrain1)"
      ],
      "metadata": {
        "colab": {
          "base_uri": "https://localhost:8080/"
        },
        "id": "zVFF6_JDpAXj",
        "outputId": "e7747334-c732-4b8d-8551-4eb0722ae1ce"
      },
      "execution_count": null,
      "outputs": [
        {
          "output_type": "execute_result",
          "data": {
            "text/plain": [
              "LogisticRegression()"
            ]
          },
          "metadata": {},
          "execution_count": 168
        }
      ]
    },
    {
      "cell_type": "code",
      "source": [
        "## Testing the model \n",
        "\n",
        "##Train data \n",
        "y_pred_train = lr.predict(xtrain_tfidf)\n",
        "print(\"accuracy:\" ,accuracy_score(ytrain1,y_pred_train))\n",
        "print(\"\\n\\n Confusion matrix\\n\", confusion_matrix(ytrain1,y_pred_train))\n",
        "print(\"\\n\\n Classification Report\\n\", classification_report(ytrain1,y_pred_train))"
      ],
      "metadata": {
        "colab": {
          "base_uri": "https://localhost:8080/"
        },
        "id": "J-NxwNC3pLbS",
        "outputId": "88e76e4a-8c1b-4e4b-a581-2e1286b8c10a"
      },
      "execution_count": null,
      "outputs": [
        {
          "output_type": "stream",
          "name": "stdout",
          "text": [
            "accuracy: 0.9654447115384616\n",
            "\n",
            "\n",
            " Confusion matrix\n",
            " [[7992  318]\n",
            " [ 257 8073]]\n",
            "\n",
            "\n",
            " Classification Report\n",
            "               precision    recall  f1-score   support\n",
            "\n",
            "           0       0.97      0.96      0.97      8310\n",
            "           1       0.96      0.97      0.97      8330\n",
            "\n",
            "    accuracy                           0.97     16640\n",
            "   macro avg       0.97      0.97      0.97     16640\n",
            "weighted avg       0.97      0.97      0.97     16640\n",
            "\n"
          ]
        }
      ]
    },
    {
      "cell_type": "code",
      "source": [
        "## Test data\n",
        "\n",
        "y_pred_test = lr.predict(xtest_tfidf)\n",
        "print(\"accuracy:\" , accuracy_score(yval,y_pred_test))\n",
        "print(\"\\n\\nConfusion matrix\\n\", confusion_matrix(yval,y_pred_test))\n",
        "print(\"\\n\\nClassification Report\\n\", classification_report(yval,y_pred_test))"
      ],
      "metadata": {
        "colab": {
          "base_uri": "https://localhost:8080/"
        },
        "id": "Ci5XFIlRpQXB",
        "outputId": "393db5ce-8407-4961-e76f-1524941c344a"
      },
      "execution_count": null,
      "outputs": [
        {
          "output_type": "stream",
          "name": "stdout",
          "text": [
            "accuracy: 0.9427884615384615\n",
            "\n",
            "\n",
            "Confusion matrix\n",
            " [[1940  137]\n",
            " [ 101 1982]]\n",
            "\n",
            "\n",
            "Classification Report\n",
            "               precision    recall  f1-score   support\n",
            "\n",
            "           0       0.95      0.93      0.94      2077\n",
            "           1       0.94      0.95      0.94      2083\n",
            "\n",
            "    accuracy                           0.94      4160\n",
            "   macro avg       0.94      0.94      0.94      4160\n",
            "weighted avg       0.94      0.94      0.94      4160\n",
            "\n"
          ]
        }
      ]
    },
    {
      "cell_type": "markdown",
      "source": [
        "#### SVM with TFIDF"
      ],
      "metadata": {
        "id": "KTzZZOgrpRf-"
      }
    },
    {
      "cell_type": "code",
      "source": [
        "svc = SVC(kernel='linear')\n",
        "\n",
        "svc.fit(xtrain_tfidf, ytrain1)"
      ],
      "metadata": {
        "colab": {
          "base_uri": "https://localhost:8080/"
        },
        "id": "JeIRXW2zpZEO",
        "outputId": "2516527a-42c0-4f15-ac32-45b4dea46ede"
      },
      "execution_count": null,
      "outputs": [
        {
          "output_type": "execute_result",
          "data": {
            "text/plain": [
              "SVC(kernel='linear')"
            ]
          },
          "metadata": {},
          "execution_count": 171
        }
      ]
    },
    {
      "cell_type": "code",
      "source": [
        "## Testing the model \n",
        "\n",
        "##Train data \n",
        "y_pred_train = svc.predict(xtrain_tfidf)\n",
        "print(\"accuracy Score:\" , accuracy_score(ytrain1,y_pred_train))\n",
        "print(\"\\n\\nConfusion matrix\\n\", confusion_matrix(ytrain1,y_pred_train))\n",
        "print(\"\\n\\nClassification Report\\n\", classification_report(ytrain1,y_pred_train))"
      ],
      "metadata": {
        "colab": {
          "base_uri": "https://localhost:8080/"
        },
        "id": "fYhSYaAGpgef",
        "outputId": "32c0f7e1-f7ee-4ea8-c84d-ed398c25c848"
      },
      "execution_count": null,
      "outputs": [
        {
          "output_type": "stream",
          "name": "stdout",
          "text": [
            "accuracy Score: 0.9810096153846154\n",
            "\n",
            "\n",
            "Confusion matrix\n",
            " [[8139  171]\n",
            " [ 145 8185]]\n",
            "\n",
            "\n",
            "Classification Report\n",
            "               precision    recall  f1-score   support\n",
            "\n",
            "           0       0.98      0.98      0.98      8310\n",
            "           1       0.98      0.98      0.98      8330\n",
            "\n",
            "    accuracy                           0.98     16640\n",
            "   macro avg       0.98      0.98      0.98     16640\n",
            "weighted avg       0.98      0.98      0.98     16640\n",
            "\n"
          ]
        }
      ]
    },
    {
      "cell_type": "code",
      "source": [
        "## Test data\n",
        "y_pred_test = svc.predict(xtest_tfidf)\n",
        "print(\"accuracy:\", accuracy_score(yval,y_pred_test))\n",
        "print(\"\\n\\nConfusion matrix\\n\", confusion_matrix(yval,y_pred_test))\n",
        "print(\"\\n\\nClassification Report\", classification_report(yval,y_pred_test))"
      ],
      "metadata": {
        "colab": {
          "base_uri": "https://localhost:8080/"
        },
        "id": "aQartAxvpivt",
        "outputId": "53450078-d02e-425f-edc2-3d6b30caacdc"
      },
      "execution_count": null,
      "outputs": [
        {
          "output_type": "stream",
          "name": "stdout",
          "text": [
            "accuracy: 0.9473557692307693\n",
            "\n",
            "\n",
            "Confusion matrix\n",
            " [[1958  119]\n",
            " [ 100 1983]]\n",
            "\n",
            "\n",
            "Classification Report               precision    recall  f1-score   support\n",
            "\n",
            "           0       0.95      0.94      0.95      2077\n",
            "           1       0.94      0.95      0.95      2083\n",
            "\n",
            "    accuracy                           0.95      4160\n",
            "   macro avg       0.95      0.95      0.95      4160\n",
            "weighted avg       0.95      0.95      0.95      4160\n",
            "\n"
          ]
        }
      ]
    },
    {
      "cell_type": "markdown",
      "source": [
        "#### RANDOM FOREST with TFDIF"
      ],
      "metadata": {
        "id": "CI4_DANZpmpm"
      }
    },
    {
      "cell_type": "code",
      "source": [
        "rf = RandomForestClassifier()\n",
        "\n",
        "rf.fit(xtrain_tfidf, ytrain1)"
      ],
      "metadata": {
        "colab": {
          "base_uri": "https://localhost:8080/"
        },
        "id": "VHpOjJcippyN",
        "outputId": "1e75654e-3d3d-49d5-b146-ca963c81792e"
      },
      "execution_count": null,
      "outputs": [
        {
          "output_type": "execute_result",
          "data": {
            "text/plain": [
              "RandomForestClassifier()"
            ]
          },
          "metadata": {},
          "execution_count": 174
        }
      ]
    },
    {
      "cell_type": "code",
      "source": [
        "## Testing the model \n",
        "\n",
        "##Train data \n",
        "y_pred_train = rf.predict(xtrain_tfidf)\n",
        "print(\"accuracy Score:\" , accuracy_score(ytrain1,y_pred_train))\n",
        "print(\"\\n\\nConfusion matrix\\n\", confusion_matrix(ytrain1,y_pred_train))\n",
        "print(\"\\n\\nClassification Report\", classification_report(ytrain1,y_pred_train))"
      ],
      "metadata": {
        "colab": {
          "base_uri": "https://localhost:8080/"
        },
        "id": "g_B2rhEAptxi",
        "outputId": "1de8449c-e32c-446b-c347-e4555b3d9723"
      },
      "execution_count": null,
      "outputs": [
        {
          "output_type": "stream",
          "name": "stdout",
          "text": [
            "accuracy Score: 1.0\n",
            "\n",
            "\n",
            "Confusion matrix\n",
            " [[8310    0]\n",
            " [   0 8330]]\n",
            "\n",
            "\n",
            "Classification Report               precision    recall  f1-score   support\n",
            "\n",
            "           0       1.00      1.00      1.00      8310\n",
            "           1       1.00      1.00      1.00      8330\n",
            "\n",
            "    accuracy                           1.00     16640\n",
            "   macro avg       1.00      1.00      1.00     16640\n",
            "weighted avg       1.00      1.00      1.00     16640\n",
            "\n"
          ]
        }
      ]
    },
    {
      "cell_type": "code",
      "source": [
        "\n",
        "## Test data\n",
        "y_pred_test = rf.predict(xtest_tfidf)\n",
        "print(\"accuracy:\", accuracy_score(yval,y_pred_test))\n",
        "print(\"\\n\\nConfusion matrix\\n\", confusion_matrix(yval,y_pred_test))\n",
        "print(\"\\n\\nClassification Report\", classification_report(yval,y_pred_test))"
      ],
      "metadata": {
        "colab": {
          "base_uri": "https://localhost:8080/"
        },
        "id": "ch6mw0rnpyhO",
        "outputId": "24e3d7f2-8263-4b0d-eab2-f2b8d249e49a"
      },
      "execution_count": null,
      "outputs": [
        {
          "output_type": "stream",
          "name": "stdout",
          "text": [
            "accuracy: 0.9444711538461539\n",
            "\n",
            "\n",
            "Confusion matrix\n",
            " [[1979   98]\n",
            " [ 133 1950]]\n",
            "\n",
            "\n",
            "Classification Report               precision    recall  f1-score   support\n",
            "\n",
            "           0       0.94      0.95      0.94      2077\n",
            "           1       0.95      0.94      0.94      2083\n",
            "\n",
            "    accuracy                           0.94      4160\n",
            "   macro avg       0.94      0.94      0.94      4160\n",
            "weighted avg       0.94      0.94      0.94      4160\n",
            "\n"
          ]
        }
      ]
    },
    {
      "cell_type": "markdown",
      "source": [
        "#### XGBOOST with TFIDF"
      ],
      "metadata": {
        "id": "UFE7CYSgp1o8"
      }
    },
    {
      "cell_type": "code",
      "source": [
        "xg = xgb.XGBClassifier()\n",
        "xg.fit(xtrain_tfidf, ytrain1)"
      ],
      "metadata": {
        "colab": {
          "base_uri": "https://localhost:8080/"
        },
        "id": "TAWMAF2Op85b",
        "outputId": "3ec14bfb-d7c1-4588-deae-6cbb348e046c"
      },
      "execution_count": null,
      "outputs": [
        {
          "output_type": "execute_result",
          "data": {
            "text/plain": [
              "XGBClassifier()"
            ]
          },
          "metadata": {},
          "execution_count": 177
        }
      ]
    },
    {
      "cell_type": "code",
      "source": [
        "## Testing the model \n",
        "\n",
        "##Train data \n",
        "y_pred_train = xg.predict(xtrain_tfidf)\n",
        "print(\"accuracy Score:\" , accuracy_score(ytrain1,y_pred_train))\n",
        "print(\"\\n\\nConfusion matrix\\n\", confusion_matrix(ytrain1,y_pred_train))\n",
        "print(\"\\n\\nClassification Report\", classification_report(ytrain1,y_pred_train))"
      ],
      "metadata": {
        "colab": {
          "base_uri": "https://localhost:8080/"
        },
        "id": "d-ui_k-yyU2f",
        "outputId": "ca5a485b-bb0a-4abe-e6ee-a6bc4bf0c329"
      },
      "execution_count": null,
      "outputs": [
        {
          "output_type": "stream",
          "name": "stdout",
          "text": [
            "accuracy Score: 0.9432091346153846\n",
            "\n",
            "\n",
            "Confusion matrix\n",
            " [[7716  594]\n",
            " [ 351 7979]]\n",
            "\n",
            "\n",
            "Classification Report               precision    recall  f1-score   support\n",
            "\n",
            "           0       0.96      0.93      0.94      8310\n",
            "           1       0.93      0.96      0.94      8330\n",
            "\n",
            "    accuracy                           0.94     16640\n",
            "   macro avg       0.94      0.94      0.94     16640\n",
            "weighted avg       0.94      0.94      0.94     16640\n",
            "\n"
          ]
        }
      ]
    },
    {
      "cell_type": "code",
      "source": [
        "## Test data\n",
        "y_pred_test = rf.predict(xtest_tfidf)\n",
        "print(\"accuracy:\", accuracy_score(yval,y_pred_test))\n",
        "print(\"\\n\\nConfusion matrix\\n\", confusion_matrix(yval,y_pred_test))\n",
        "print(\"\\n\\nClassification Report\", classification_report(yval,y_pred_test))"
      ],
      "metadata": {
        "colab": {
          "base_uri": "https://localhost:8080/"
        },
        "id": "Qz9cCZ_WyVbu",
        "outputId": "caaad6bd-ccbf-49cf-83ed-927d595c9a79"
      },
      "execution_count": null,
      "outputs": [
        {
          "output_type": "stream",
          "name": "stdout",
          "text": [
            "accuracy: 0.9444711538461539\n",
            "\n",
            "\n",
            "Confusion matrix\n",
            " [[1979   98]\n",
            " [ 133 1950]]\n",
            "\n",
            "\n",
            "Classification Report               precision    recall  f1-score   support\n",
            "\n",
            "           0       0.94      0.95      0.94      2077\n",
            "           1       0.95      0.94      0.94      2083\n",
            "\n",
            "    accuracy                           0.94      4160\n",
            "   macro avg       0.94      0.94      0.94      4160\n",
            "weighted avg       0.94      0.94      0.94      4160\n",
            "\n"
          ]
        }
      ]
    },
    {
      "cell_type": "markdown",
      "metadata": {
        "id": "0FxNLYdxrqzF"
      },
      "source": [
        "#### gradient boost classifier"
      ]
    },
    {
      "cell_type": "code",
      "execution_count": null,
      "metadata": {
        "id": "SmWAm-C5rqzF",
        "colab": {
          "base_uri": "https://localhost:8080/"
        },
        "outputId": "1feeb272-cbc4-49b3-eba8-ce54302f9a2b"
      },
      "outputs": [
        {
          "output_type": "execute_result",
          "data": {
            "text/plain": [
              "GradientBoostingClassifier(random_state=100)"
            ]
          },
          "metadata": {},
          "execution_count": 180
        }
      ],
      "source": [
        "#Using gradient boost classifier to check results\n",
        "\n",
        "clf = GradientBoostingClassifier(n_estimators = 100, max_depth = 3, random_state = 100)\n",
        "clf.fit(xtrain_tfidf, ytrain1)"
      ]
    },
    {
      "cell_type": "code",
      "execution_count": null,
      "metadata": {
        "id": "3lDGZJ0LrqzF",
        "colab": {
          "base_uri": "https://localhost:8080/"
        },
        "outputId": "d78ca790-3c73-4e5b-c7ae-992f3395b396"
      },
      "outputs": [
        {
          "output_type": "execute_result",
          "data": {
            "text/plain": [
              "array([[7723,  587],\n",
              "       [ 366, 7964]])"
            ]
          },
          "metadata": {},
          "execution_count": 181
        }
      ],
      "source": [
        "# training confusion matrix\n",
        "\n",
        "y_train_pred1 = clf.predict(xtrain_tfidf)\n",
        "confusion_matrix(ytrain1,y_train_pred1)"
      ]
    },
    {
      "cell_type": "code",
      "execution_count": null,
      "metadata": {
        "id": "sZ2Db2crrqzF",
        "colab": {
          "base_uri": "https://localhost:8080/",
          "height": 279
        },
        "outputId": "fd8867c4-0fa8-4a30-d17b-75fe75347d89"
      },
      "outputs": [
        {
          "output_type": "display_data",
          "data": {
            "text/plain": [
              "<Figure size 432x288 with 2 Axes>"
            ],
            "image/png": "[encoded data removed]"
          },
          "metadata": {
            "needs_background": "light"
          }
        }
      ],
      "source": [
        "from sklearn.metrics import ConfusionMatrixDisplay\n",
        "from sklearn.metrics import classification_report\n",
        "from sklearn.metrics import confusion_matrix\n",
        "ConfusionMatrixDisplay(confusion_matrix=confusion_matrix(ytrain1,y_train_pred1)).plot();"
      ]
    },
    {
      "cell_type": "code",
      "execution_count": null,
      "metadata": {
        "id": "DPgn_W1VrqzF",
        "colab": {
          "base_uri": "https://localhost:8080/"
        },
        "outputId": "1740da2b-0275-4568-d2a6-97ade45c1659"
      },
      "outputs": [
        {
          "output_type": "stream",
          "name": "stdout",
          "text": [
            "              precision    recall  f1-score   support\n",
            "\n",
            "           0       0.95      0.93      0.94      8310\n",
            "           1       0.93      0.96      0.94      8330\n",
            "\n",
            "    accuracy                           0.94     16640\n",
            "   macro avg       0.94      0.94      0.94     16640\n",
            "weighted avg       0.94      0.94      0.94     16640\n",
            "\n"
          ]
        }
      ],
      "source": [
        "print(classification_report(ytrain1,y_train_pred1))"
      ]
    },
    {
      "cell_type": "code",
      "execution_count": null,
      "metadata": {
        "id": "Usut6AiHrqzF",
        "colab": {
          "base_uri": "https://localhost:8080/"
        },
        "outputId": "10710b22-b442-49b8-d50d-8888b6787639"
      },
      "outputs": [
        {
          "output_type": "execute_result",
          "data": {
            "text/plain": [
              "array([[1883,  194],\n",
              "       [ 117, 1966]])"
            ]
          },
          "metadata": {},
          "execution_count": 184
        }
      ],
      "source": [
        "# testing confusion matrix\n",
        "y_test_pred1 = clf.predict(xtest_tfidf)\n",
        "confusion_matrix(yval,y_test_pred1)"
      ]
    },
    {
      "cell_type": "code",
      "execution_count": null,
      "metadata": {
        "id": "WwJSrTOSrqzG",
        "colab": {
          "base_uri": "https://localhost:8080/",
          "height": 279
        },
        "outputId": "68dbea3d-f76d-45b1-87a2-f4c79dcb2da7"
      },
      "outputs": [
        {
          "output_type": "display_data",
          "data": {
            "text/plain": [
              "<Figure size 432x288 with 2 Axes>"
            ],
            "image/png": "[encoded data removed]"
          },
          "metadata": {
            "needs_background": "light"
          }
        }
      ],
      "source": [
        "ConfusionMatrixDisplay(confusion_matrix=confusion_matrix(yval,y_test_pred1)).plot();"
      ]
    },
    {
      "cell_type": "code",
      "execution_count": null,
      "metadata": {
        "id": "inJMWozJrqzG",
        "colab": {
          "base_uri": "https://localhost:8080/"
        },
        "outputId": "6703660d-76dc-4cc0-fa21-2b850e5c8513"
      },
      "outputs": [
        {
          "output_type": "stream",
          "name": "stdout",
          "text": [
            "              precision    recall  f1-score   support\n",
            "\n",
            "           0       0.94      0.91      0.92      2077\n",
            "           1       0.91      0.94      0.93      2083\n",
            "\n",
            "    accuracy                           0.93      4160\n",
            "   macro avg       0.93      0.93      0.93      4160\n",
            "weighted avg       0.93      0.93      0.93      4160\n",
            "\n"
          ]
        }
      ],
      "source": [
        "from sklearn.metrics import classification_report, confusion_matrix\n",
        "print(classification_report(yval,y_test_pred1))"
      ]
    },
    {
      "cell_type": "code",
      "execution_count": null,
      "metadata": {
        "id": "xQx1ViG4rqzG"
      },
      "outputs": [],
      "source": [
        "y_test_predkaggle = clf.predict(xtest_kaggle)"
      ]
    },
    {
      "cell_type": "code",
      "execution_count": null,
      "metadata": {
        "id": "zjedGePcrqzG"
      },
      "outputs": [],
      "source": [
        "#y_test_predkaggle"
      ]
    },
    {
      "cell_type": "code",
      "execution_count": null,
      "metadata": {
        "id": "FvKBZ5qxrqzG"
      },
      "outputs": [],
      "source": [
        "nlp_proj = pd.DataFrame()\n",
        "nlp_proj['id']=data_test['id']\n",
        "nlp_proj['label'] = y_test_predkaggle"
      ]
    },
    {
      "cell_type": "code",
      "execution_count": null,
      "metadata": {
        "id": "6AWJaN8mrqzH",
        "colab": {
          "base_uri": "https://localhost:8080/",
          "height": 206
        },
        "outputId": "3a252858-4caa-4894-9928-503884268491"
      },
      "outputs": [
        {
          "output_type": "execute_result",
          "data": {
            "text/plain": [
              "      id  label\n",
              "0  20800      0\n",
              "1  20801      1\n",
              "2  20802      1\n",
              "3  20803      0\n",
              "4  20804      1"
            ],
            "text/html": [
              "\n",
              "  <div id=\"df-d0b724e7-7aff-45b7-a508-723732f8de37\">\n",
              "    <div class=\"colab-df-container\">\n",
              "      <div>\n",
              "<style scoped>\n",
              "    .dataframe tbody tr th:only-of-type {\n",
              "        vertical-align: middle;\n",
              "    }\n",
              "\n",
              "    .dataframe tbody tr th {\n",
              "        vertical-align: top;\n",
              "    }\n",
              "\n",
              "    .dataframe thead th {\n",
              "        text-align: right;\n",
              "    }\n",
              "</style>\n",
              "<table border=\"1\" class=\"dataframe\">\n",
              "  <thead>\n",
              "    <tr style=\"text-align: right;\">\n",
              "      <th></th>\n",
              "      <th>id</th>\n",
              "      <th>label</th>\n",
              "    </tr>\n",
              "  </thead>\n",
              "  <tbody>\n",
              "    <tr>\n",
              "      <th>0</th>\n",
              "      <td>20800</td>\n",
              "      <td>0</td>\n",
              "    </tr>\n",
              "    <tr>\n",
              "      <th>1</th>\n",
              "      <td>20801</td>\n",
              "      <td>1</td>\n",
              "    </tr>\n",
              "    <tr>\n",
              "      <th>2</th>\n",
              "      <td>20802</td>\n",
              "      <td>1</td>\n",
              "    </tr>\n",
              "    <tr>\n",
              "      <th>3</th>\n",
              "      <td>20803</td>\n",
              "      <td>0</td>\n",
              "    </tr>\n",
              "    <tr>\n",
              "      <th>4</th>\n",
              "      <td>20804</td>\n",
              "      <td>1</td>\n",
              "    </tr>\n",
              "  </tbody>\n",
              "</table>\n",
              "</div>\n",
              "      <button class=\"colab-df-convert\" onclick=\"convertToInteractive('df-d0b724e7-7aff-45b7-a508-723732f8de37')\"\n",
              "              title=\"Convert this dataframe to an interactive table.\"\n",
              "              style=\"display:none;\">\n",
              "        \n",
              "  <svg xmlns=\"http://www.w3.org/2000/svg\" height=\"24px\"viewBox=\"0 0 24 24\"\n",
              "       width=\"24px\">\n",
              "    <path d=\"M0 0h24v24H0V0z\" fill=\"none\"/>\n",
              "    <path d=\"M18.56 5.44l.94 2.06.94-2.06 2.06-.94-2.06-.94-.94-2.06-.94 2.06-2.06.94zm-11 1L8.5 8.5l.94-2.06 2.06-.94-2.06-.94L8.5 2.5l-.94 2.06-2.06.94zm10 10l.94 2.06.94-2.06 2.06-.94-2.06-.94-.94-2.06-.94 2.06-2.06.94z\"/><path d=\"M17.41 7.96l-1.37-1.37c-.4-.4-.92-.59-1.43-.59-.52 0-1.04.2-1.43.59L10.3 9.45l-7.72 7.72c-.78.78-.78 2.05 0 2.83L4 21.41c.39.39.9.59 1.41.59.51 0 1.02-.2 1.41-.59l7.78-7.78 2.81-2.81c.8-.78.8-2.07 0-2.86zM5.41 20L4 18.59l7.72-7.72 1.47 1.35L5.41 20z\"/>\n",
              "  </svg>\n",
              "      </button>\n",
              "      \n",
              "  <style>\n",
              "    .colab-df-container {\n",
              "      display:flex;\n",
              "      flex-wrap:wrap;\n",
              "      gap: 12px;\n",
              "    }\n",
              "\n",
              "    .colab-df-convert {\n",
              "      background-color: #E8F0FE;\n",
              "      border: none;\n",
              "      border-radius: 50%;\n",
              "      cursor: pointer;\n",
              "      display: none;\n",
              "      fill: #1967D2;\n",
              "      height: 32px;\n",
              "      padding: 0 0 0 0;\n",
              "      width: 32px;\n",
              "    }\n",
              "\n",
              "    .colab-df-convert:hover {\n",
              "      background-color: #E2EBFA;\n",
              "      box-shadow: 0px 1px 2px rgba(60, 64, 67, 0.3), 0px 1px 3px 1px rgba(60, 64, 67, 0.15);\n",
              "      fill: #174EA6;\n",
              "    }\n",
              "\n",
              "    [theme=dark] .colab-df-convert {\n",
              "      background-color: #3B4455;\n",
              "      fill: #D2E3FC;\n",
              "    }\n",
              "\n",
              "    [theme=dark] .colab-df-convert:hover {\n",
              "      background-color: #434B5C;\n",
              "      box-shadow: 0px 1px 3px 1px rgba(0, 0, 0, 0.15);\n",
              "      filter: drop-shadow(0px 1px 2px rgba(0, 0, 0, 0.3));\n",
              "      fill: #FFFFFF;\n",
              "    }\n",
              "  </style>\n",
              "\n",
              "      <script>\n",
              "        const buttonEl =\n",
              "          document.querySelector('#df-d0b724e7-7aff-45b7-a508-723732f8de37 button.colab-df-convert');\n",
              "        buttonEl.style.display =\n",
              "          google.colab.kernel.accessAllowed ? 'block' : 'none';\n",
              "\n",
              "        async function convertToInteractive(key) {\n",
              "          const element = document.querySelector('#df-d0b724e7-7aff-45b7-a508-723732f8de37');\n",
              "          const dataTable =\n",
              "            await google.colab.kernel.invokeFunction('convertToInteractive',\n",
              "                                                     [key], {});\n",
              "          if (!dataTable) return;\n",
              "\n",
              "          const docLinkHtml = 'Like what you see? Visit the ' +\n",
              "            '<a target=\"_blank\" href=https://colab.research.google.com/notebooks/data_table.ipynb>data table notebook</a>'\n",
              "            + ' to learn more about interactive tables.';\n",
              "          element.innerHTML = '';\n",
              "          dataTable['output_type'] = 'display_data';\n",
              "          await google.colab.output.renderOutput(dataTable, element);\n",
              "          const docLink = document.createElement('div');\n",
              "          docLink.innerHTML = docLinkHtml;\n",
              "          element.appendChild(docLink);\n",
              "        }\n",
              "      </script>\n",
              "    </div>\n",
              "  </div>\n",
              "  "
            ]
          },
          "metadata": {},
          "execution_count": 190
        }
      ],
      "source": [
        "nlp_proj.head()"
      ]
    },
    {
      "cell_type": "code",
      "execution_count": null,
      "metadata": {
        "id": "BKC1yYZlrqzH"
      },
      "outputs": [],
      "source": [
        "nlp_proj.to_csv('NLP_Project_GB.csv')"
      ]
    },
    {
      "cell_type": "markdown",
      "metadata": {
        "id": "g8i5-LlArqzH"
      },
      "source": [
        "# Word2Vec\n",
        " word embedding Approach"
      ]
    },
    {
      "cell_type": "code",
      "execution_count": null,
      "metadata": {
        "id": "zc2yJUIHrqzH"
      },
      "outputs": [],
      "source": [
        "from gensim.models.word2vec import Word2Vec"
      ]
    },
    {
      "cell_type": "code",
      "execution_count": null,
      "metadata": {
        "id": "xGani3HJrqzH",
        "colab": {
          "base_uri": "https://localhost:8080/"
        },
        "outputId": "e9a1ea63-5335-4bc3-f10f-398de17d037c"
      },
      "outputs": [
        {
          "output_type": "execute_result",
          "data": {
            "text/plain": [
              "(17865, 40170300)"
            ]
          },
          "metadata": {},
          "execution_count": 193
        }
      ],
      "source": [
        "# Using word to vec\n",
        "alg = Word2Vec(size= 500, min_count = 1)\n",
        "alg.build_vocab(xtrain1)\n",
        "alg.train(data_train['text_total'], total_examples = len(xtrain1), epochs = alg.epochs)"
      ]
    },
    {
      "cell_type": "code",
      "execution_count": null,
      "metadata": {
        "id": "AZIZEl_ArqzH"
      },
      "outputs": [],
      "source": [
        "# word2vec for sentence\n",
        "def convert_word_to_vector(sms, size):\n",
        "    vec = np.zeros(500).reshape((1, 500))\n",
        "    count = 0\n",
        "    for word in sms:\n",
        "        try:\n",
        "            vec = vec+ alg.wv[word].reshape((1, size))\n",
        "            count = count+1.\n",
        "        except KeyError:\n",
        "            continue\n",
        "    if count != 0:\n",
        "        vec = vec/count\n",
        "    return vec"
      ]
    },
    {
      "cell_type": "code",
      "execution_count": null,
      "metadata": {
        "id": "_AXD0XmgrqzI"
      },
      "outputs": [],
      "source": [
        "# converting training and testing to vectors\n",
        "data_processed_vecs = scale(np.concatenate([convert_word_to_vector(z, 500) for z in xtrain1]))\n",
        "data_processed_test_vecs = scale(np.concatenate([convert_word_to_vector(z, 500) for z in xval]))"
      ]
    },
    {
      "cell_type": "code",
      "execution_count": null,
      "metadata": {
        "id": "yNTb-FPerqzI"
      },
      "outputs": [],
      "source": [
        "# converting validation vectors for kaggle submission\n",
        "data_processed_kaggle_sub_vecs = scale(np.concatenate([convert_word_to_vector(z, 500) for z in data_test[\"text_total\"]]))"
      ]
    },
    {
      "cell_type": "markdown",
      "metadata": {
        "id": "pfsHC1d8Ui32"
      },
      "source": [
        "**MODEL BUILDING**\n",
        "\n"
      ]
    },
    {
      "cell_type": "code",
      "execution_count": null,
      "metadata": {
        "id": "rv1OCUH7VkSl"
      },
      "outputs": [],
      "source": [
        "## Importing packages \n",
        "\n",
        "from sklearn.metrics import accuracy_score, f1_score, confusion_matrix, classification_report\n",
        "from sklearn.linear_model import LogisticRegression \n",
        "from sklearn.svm import SVC \n",
        "from sklearn.ensemble import RandomForestClassifier \n",
        "import xgboost as xgb"
      ]
    },
    {
      "cell_type": "markdown",
      "metadata": {
        "id": "LTyrV7GOVZCT"
      },
      "source": [
        "### Logistic Regression with Word2Vec"
      ]
    },
    {
      "cell_type": "code",
      "execution_count": null,
      "metadata": {
        "id": "VTRY04bAtIBI",
        "colab": {
          "base_uri": "https://localhost:8080/"
        },
        "outputId": "2d600fd3-3cc9-4644-c7a8-e391f335b2a9"
      },
      "outputs": [
        {
          "output_type": "stream",
          "name": "stderr",
          "text": [
            "/usr/local/lib/python3.7/dist-packages/sklearn/linear_model/_logistic.py:818: ConvergenceWarning: lbfgs failed to converge (status=1):\n",
            "STOP: TOTAL NO. of ITERATIONS REACHED LIMIT.\n",
            "\n",
            "Increase the number of iterations (max_iter) or scale the data as shown in:\n",
            "    https://scikit-learn.org/stable/modules/preprocessing.html\n",
            "Please also refer to the documentation for alternative solver options:\n",
            "    https://scikit-learn.org/stable/modules/linear_model.html#logistic-regression\n",
            "  extra_warning_msg=_LOGISTIC_SOLVER_CONVERGENCE_MSG,\n"
          ]
        },
        {
          "output_type": "execute_result",
          "data": {
            "text/plain": [
              "LogisticRegression()"
            ]
          },
          "metadata": {},
          "execution_count": 198
        }
      ],
      "source": [
        "lr = LogisticRegression()\n",
        "\n",
        "lr.fit(data_processed_vecs, ytrain1)"
      ]
    },
    {
      "cell_type": "code",
      "execution_count": null,
      "metadata": {
        "id": "ddEyUURPv6iI",
        "colab": {
          "base_uri": "https://localhost:8080/"
        },
        "outputId": "a4479b0d-c2fa-43ce-aa1e-64001f9b53c4"
      },
      "outputs": [
        {
          "output_type": "stream",
          "name": "stdout",
          "text": [
            "accuracy: 0.6574519230769231\n",
            "\n",
            "\n",
            " Confusion matrix\n",
            " [[5516 2794]\n",
            " [2906 5424]]\n",
            "\n",
            "\n",
            " Classification Report\n",
            "               precision    recall  f1-score   support\n",
            "\n",
            "           0       0.65      0.66      0.66      8310\n",
            "           1       0.66      0.65      0.66      8330\n",
            "\n",
            "    accuracy                           0.66     16640\n",
            "   macro avg       0.66      0.66      0.66     16640\n",
            "weighted avg       0.66      0.66      0.66     16640\n",
            "\n"
          ]
        }
      ],
      "source": [
        "## Testing the model \n",
        "\n",
        "##Train data \n",
        "y_pred_train = lr.predict(data_processed_vecs)\n",
        "print(\"accuracy:\" ,accuracy_score(ytrain1,y_pred_train))\n",
        "print(\"\\n\\n Confusion matrix\\n\", confusion_matrix(ytrain1,y_pred_train))\n",
        "print(\"\\n\\n Classification Report\\n\", classification_report(ytrain1,y_pred_train))"
      ]
    },
    {
      "cell_type": "code",
      "execution_count": null,
      "metadata": {
        "id": "XTK8HUZ7wQct",
        "colab": {
          "base_uri": "https://localhost:8080/"
        },
        "outputId": "4f093793-dbc4-47b4-8491-2b6a7954c761"
      },
      "outputs": [
        {
          "output_type": "stream",
          "name": "stdout",
          "text": [
            "accuracy: 0.6572115384615385\n",
            "\n",
            "\n",
            "Confusion matrix\n",
            " [[1402  675]\n",
            " [ 751 1332]]\n",
            "\n",
            "\n",
            "Classification Report\n",
            "               precision    recall  f1-score   support\n",
            "\n",
            "           0       0.65      0.68      0.66      2077\n",
            "           1       0.66      0.64      0.65      2083\n",
            "\n",
            "    accuracy                           0.66      4160\n",
            "   macro avg       0.66      0.66      0.66      4160\n",
            "weighted avg       0.66      0.66      0.66      4160\n",
            "\n"
          ]
        }
      ],
      "source": [
        "## Test data\n",
        "\n",
        "y_pred_test = lr.predict(data_processed_test_vecs)\n",
        "print(\"accuracy:\" , accuracy_score(yval,y_pred_test))\n",
        "print(\"\\n\\nConfusion matrix\\n\", confusion_matrix(yval,y_pred_test))\n",
        "print(\"\\n\\nClassification Report\\n\", classification_report(yval,y_pred_test))"
      ]
    },
    {
      "cell_type": "markdown",
      "metadata": {
        "id": "dS3cr5WcmmUv"
      },
      "source": [
        "### SVM with Word2Vec"
      ]
    },
    {
      "cell_type": "code",
      "execution_count": null,
      "metadata": {
        "id": "hYtL9SRt-KTl",
        "colab": {
          "base_uri": "https://localhost:8080/"
        },
        "outputId": "7562442a-83de-459d-9063-88fded9871df"
      },
      "outputs": [
        {
          "output_type": "execute_result",
          "data": {
            "text/plain": [
              "SVC(kernel='linear')"
            ]
          },
          "metadata": {},
          "execution_count": 201
        }
      ],
      "source": [
        "svc = SVC(kernel='linear')\n",
        "\n",
        "svc.fit(data_processed_vecs, ytrain1)"
      ]
    },
    {
      "cell_type": "code",
      "execution_count": null,
      "metadata": {
        "id": "tnb3jkCn-aNY",
        "colab": {
          "base_uri": "https://localhost:8080/"
        },
        "outputId": "f1039c27-694d-41af-e290-a92f79fb9a96"
      },
      "outputs": [
        {
          "output_type": "stream",
          "name": "stdout",
          "text": [
            "accuracy Score: 0.6682692307692307\n",
            "\n",
            "\n",
            "Confusion matrix\n",
            " [[5842 2468]\n",
            " [3052 5278]]\n",
            "\n",
            "\n",
            "Classification Report               precision    recall  f1-score   support\n",
            "\n",
            "           0       0.66      0.70      0.68      8310\n",
            "           1       0.68      0.63      0.66      8330\n",
            "\n",
            "    accuracy                           0.67     16640\n",
            "   macro avg       0.67      0.67      0.67     16640\n",
            "weighted avg       0.67      0.67      0.67     16640\n",
            "\n"
          ]
        }
      ],
      "source": [
        "## Testing the model \n",
        "\n",
        "##Train data \n",
        "y_pred_train = svc.predict(data_processed_vecs)\n",
        "print(\"accuracy Score:\" , accuracy_score(ytrain1,y_pred_train))\n",
        "print(\"\\n\\nConfusion matrix\\n\", confusion_matrix(ytrain1,y_pred_train))\n",
        "print(\"\\n\\nClassification Report\", classification_report(ytrain1,y_pred_train))"
      ]
    },
    {
      "cell_type": "code",
      "execution_count": null,
      "metadata": {
        "id": "Sij4cZgs-aH_",
        "colab": {
          "base_uri": "https://localhost:8080/"
        },
        "outputId": "e46aeb5e-5d8f-4a26-a546-e5f284679a6b"
      },
      "outputs": [
        {
          "output_type": "stream",
          "name": "stdout",
          "text": [
            "accuracy: 0.6649038461538461\n",
            "\n",
            "\n",
            "Confusion matrix\n",
            " [[1460  617]\n",
            " [ 777 1306]]\n",
            "\n",
            "\n",
            "Classification Report               precision    recall  f1-score   support\n",
            "\n",
            "           0       0.65      0.70      0.68      2077\n",
            "           1       0.68      0.63      0.65      2083\n",
            "\n",
            "    accuracy                           0.66      4160\n",
            "   macro avg       0.67      0.66      0.66      4160\n",
            "weighted avg       0.67      0.66      0.66      4160\n",
            "\n"
          ]
        }
      ],
      "source": [
        "## Test data\n",
        "y_pred_test = svc.predict(data_processed_test_vecs)\n",
        "print(\"accuracy:\", accuracy_score(yval,y_pred_test))\n",
        "print(\"\\n\\nConfusion matrix\\n\", confusion_matrix(yval,y_pred_test))\n",
        "print(\"\\n\\nClassification Report\", classification_report(yval,y_pred_test))"
      ]
    },
    {
      "cell_type": "markdown",
      "metadata": {
        "id": "6RK1eXr0_e6K"
      },
      "source": [
        "### RANDOM FOREST with Word2Vec"
      ]
    },
    {
      "cell_type": "code",
      "execution_count": null,
      "metadata": {
        "id": "BGIvozeQDuW4",
        "colab": {
          "base_uri": "https://localhost:8080/"
        },
        "outputId": "c62b40e8-5c2d-49bf-bff8-ae822229eb06"
      },
      "outputs": [
        {
          "output_type": "execute_result",
          "data": {
            "text/plain": [
              "RandomForestClassifier()"
            ]
          },
          "metadata": {},
          "execution_count": 204
        }
      ],
      "source": [
        "rf = RandomForestClassifier()\n",
        "\n",
        "rf.fit(data_processed_vecs, ytrain1)"
      ]
    },
    {
      "cell_type": "code",
      "execution_count": null,
      "metadata": {
        "id": "VfMWKANTD0-s",
        "colab": {
          "base_uri": "https://localhost:8080/"
        },
        "outputId": "ad087ffe-d4ad-4d0a-c31f-1fe95db44d31"
      },
      "outputs": [
        {
          "output_type": "stream",
          "name": "stdout",
          "text": [
            "accuracy Score: 1.0\n",
            "\n",
            "\n",
            "Confusion matrix\n",
            " [[8310    0]\n",
            " [   0 8330]]\n",
            "\n",
            "\n",
            "Classification Report               precision    recall  f1-score   support\n",
            "\n",
            "           0       1.00      1.00      1.00      8310\n",
            "           1       1.00      1.00      1.00      8330\n",
            "\n",
            "    accuracy                           1.00     16640\n",
            "   macro avg       1.00      1.00      1.00     16640\n",
            "weighted avg       1.00      1.00      1.00     16640\n",
            "\n"
          ]
        }
      ],
      "source": [
        "## Testing the model \n",
        "\n",
        "##Train data \n",
        "y_pred_train = rf.predict(data_processed_vecs)\n",
        "print(\"accuracy Score:\" , accuracy_score(ytrain1,y_pred_train))\n",
        "print(\"\\n\\nConfusion matrix\\n\", confusion_matrix(ytrain1,y_pred_train))\n",
        "print(\"\\n\\nClassification Report\", classification_report(ytrain1,y_pred_train))"
      ]
    },
    {
      "cell_type": "code",
      "execution_count": null,
      "metadata": {
        "id": "t3QtBp-2D-zm",
        "colab": {
          "base_uri": "https://localhost:8080/"
        },
        "outputId": "51551880-a5ce-46db-e0a1-d365f4eb1433"
      },
      "outputs": [
        {
          "output_type": "stream",
          "name": "stdout",
          "text": [
            "accuracy: 0.6723557692307692\n",
            "\n",
            "\n",
            "Confusion matrix\n",
            " [[1465  612]\n",
            " [ 751 1332]]\n",
            "\n",
            "\n",
            "Classification Report               precision    recall  f1-score   support\n",
            "\n",
            "           0       0.66      0.71      0.68      2077\n",
            "           1       0.69      0.64      0.66      2083\n",
            "\n",
            "    accuracy                           0.67      4160\n",
            "   macro avg       0.67      0.67      0.67      4160\n",
            "weighted avg       0.67      0.67      0.67      4160\n",
            "\n"
          ]
        }
      ],
      "source": [
        "\n",
        "## Test data\n",
        "y_pred_test = rf.predict(data_processed_test_vecs)\n",
        "print(\"accuracy:\", accuracy_score(yval,y_pred_test))\n",
        "print(\"\\n\\nConfusion matrix\\n\", confusion_matrix(yval,y_pred_test))\n",
        "print(\"\\n\\nClassification Report\", classification_report(yval,y_pred_test))"
      ]
    },
    {
      "cell_type": "markdown",
      "metadata": {
        "id": "6-AnSpuzE8wW"
      },
      "source": [
        "**XGBOOST with Word2Vec**"
      ]
    },
    {
      "cell_type": "code",
      "execution_count": null,
      "metadata": {
        "id": "8rf3CDgoF_jy",
        "colab": {
          "base_uri": "https://localhost:8080/"
        },
        "outputId": "fdee8634-c4d9-4f00-851d-eb2aa875dfd6"
      },
      "outputs": [
        {
          "output_type": "execute_result",
          "data": {
            "text/plain": [
              "XGBClassifier()"
            ]
          },
          "metadata": {},
          "execution_count": 207
        }
      ],
      "source": [
        "xg = xgb.XGBClassifier()\n",
        "xg.fit(data_processed_vecs, ytrain1)"
      ]
    },
    {
      "cell_type": "code",
      "source": [
        "## Testing the model \n",
        "\n",
        "##Train data \n",
        "y_pred_train = xg.predict(data_processed_vecs)\n",
        "print(\"accuracy Score:\" , accuracy_score(ytrain1,y_pred_train))\n",
        "print(\"\\n\\nConfusion matrix\\n\", confusion_matrix(ytrain1,y_pred_train))\n",
        "print(\"\\n\\nClassification Report\", classification_report(ytrain1,y_pred_train))"
      ],
      "metadata": {
        "id": "1xOxA-S_yDsh",
        "colab": {
          "base_uri": "https://localhost:8080/"
        },
        "outputId": "19ede286-445d-469c-d7c3-7848146fb56f"
      },
      "execution_count": null,
      "outputs": [
        {
          "output_type": "stream",
          "name": "stdout",
          "text": [
            "accuracy Score: 0.6912259615384615\n",
            "\n",
            "\n",
            "Confusion matrix\n",
            " [[6056 2254]\n",
            " [2884 5446]]\n",
            "\n",
            "\n",
            "Classification Report               precision    recall  f1-score   support\n",
            "\n",
            "           0       0.68      0.73      0.70      8310\n",
            "           1       0.71      0.65      0.68      8330\n",
            "\n",
            "    accuracy                           0.69     16640\n",
            "   macro avg       0.69      0.69      0.69     16640\n",
            "weighted avg       0.69      0.69      0.69     16640\n",
            "\n"
          ]
        }
      ]
    },
    {
      "cell_type": "code",
      "source": [
        "## Test data\n",
        "y_pred_test = xg.predict(data_processed_vecs)\n",
        "print(\"accuracy:\", accuracy_score(ytrain1,y_pred_test))\n",
        "print(\"\\n\\nConfusion matrix\\n\", confusion_matrix(ytrain1,y_pred_test))\n",
        "print(\"\\n\\nClassification Report\", classification_report(ytrain1,y_pred_test))"
      ],
      "metadata": {
        "id": "Uze8mSsvyL04",
        "colab": {
          "base_uri": "https://localhost:8080/"
        },
        "outputId": "a5c8f203-0b8a-454d-ccbe-54583a4a3ad7"
      },
      "execution_count": null,
      "outputs": [
        {
          "output_type": "stream",
          "name": "stdout",
          "text": [
            "accuracy: 0.6912259615384615\n",
            "\n",
            "\n",
            "Confusion matrix\n",
            " [[6056 2254]\n",
            " [2884 5446]]\n",
            "\n",
            "\n",
            "Classification Report               precision    recall  f1-score   support\n",
            "\n",
            "           0       0.68      0.73      0.70      8310\n",
            "           1       0.71      0.65      0.68      8330\n",
            "\n",
            "    accuracy                           0.69     16640\n",
            "   macro avg       0.69      0.69      0.69     16640\n",
            "weighted avg       0.69      0.69      0.69     16640\n",
            "\n"
          ]
        }
      ]
    },
    {
      "cell_type": "markdown",
      "source": [
        "# Google's Pre-trained data\n",
        "https://code.google.com/archive/p/word2vec/"
      ],
      "metadata": {
        "id": "6NkvhbBYMKtQ"
      }
    },
    {
      "cell_type": "code",
      "source": [
        "from gensim.models import KeyedVectors\n",
        "filename = '/content/drive/MyDrive/GoogleNews-vectors-negative300.bin'\n",
        "model = KeyedVectors.load_word2vec_format(filename, binary=True)"
      ],
      "metadata": {
        "id": "0y1xhHjdMNkH"
      },
      "execution_count": null,
      "outputs": []
    },
    {
      "cell_type": "code",
      "source": [
        "## converting words to vector\n",
        "def convert_word_to_vector(sms, size):\n",
        "    vec = np.zeros(300).reshape((1, 300))\n",
        "    count = 0\n",
        "    for word in sms:\n",
        "        try:\n",
        "            vec += model.__getitem__(word).reshape((1, size))\n",
        "            count += 1.\n",
        "        except KeyError:\n",
        "            continue\n",
        "    if count != 0:\n",
        "        vec /= count\n",
        "    return vec"
      ],
      "metadata": {
        "id": "ZAYcoXznMU7o"
      },
      "execution_count": null,
      "outputs": []
    },
    {
      "cell_type": "code",
      "source": [
        "## splitting the dataset \n",
        "\n",
        "x_train, x_test, y_train, y_test = train_test_split(data_train['text_total'],y, test_size=0.2)"
      ],
      "metadata": {
        "id": "Pp6tSqq8MXrA"
      },
      "execution_count": null,
      "outputs": []
    },
    {
      "cell_type": "code",
      "source": [
        "# converting training and testing to vectors\n",
        "\n",
        "x_train_vecs = scale(np.concatenate([convert_word_to_vector(z, 300) for z in x_train]))\n",
        "x_test_vecs = scale(np.concatenate([convert_word_to_vector(z, 300) for z in x_test]))"
      ],
      "metadata": {
        "id": "P1f4EJO3Mh2b"
      },
      "execution_count": null,
      "outputs": []
    },
    {
      "cell_type": "markdown",
      "source": [
        "#### Logistic Regression With Google News Vector"
      ],
      "metadata": {
        "id": "dgFM8kJBVcS0"
      }
    },
    {
      "cell_type": "code",
      "source": [
        "lr = LogisticRegression()\n",
        "lr.fit(x_train_vecs, y_train)"
      ],
      "metadata": {
        "colab": {
          "base_uri": "https://localhost:8080/"
        },
        "id": "sh_JZsbjVbbx",
        "outputId": "ee4ad555-017e-477b-b4db-b15d565a8814"
      },
      "execution_count": null,
      "outputs": [
        {
          "output_type": "stream",
          "name": "stderr",
          "text": [
            "/usr/local/lib/python3.7/dist-packages/sklearn/linear_model/_logistic.py:818: ConvergenceWarning: lbfgs failed to converge (status=1):\n",
            "STOP: TOTAL NO. of ITERATIONS REACHED LIMIT.\n",
            "\n",
            "Increase the number of iterations (max_iter) or scale the data as shown in:\n",
            "    https://scikit-learn.org/stable/modules/preprocessing.html\n",
            "Please also refer to the documentation for alternative solver options:\n",
            "    https://scikit-learn.org/stable/modules/linear_model.html#logistic-regression\n",
            "  extra_warning_msg=_LOGISTIC_SOLVER_CONVERGENCE_MSG,\n"
          ]
        },
        {
          "output_type": "execute_result",
          "data": {
            "text/plain": [
              "LogisticRegression()"
            ]
          },
          "metadata": {},
          "execution_count": 82
        }
      ]
    },
    {
      "cell_type": "code",
      "source": [
        "## predicting the data on train data\n",
        "\n",
        "y_pred_train1 = lr.predict(x_train_vecs)\n",
        "print('Accuracy', accuracy_score(y_pred_train1, y_train))\n",
        "print('Confusion Matrix:\\n', confusion_matrix(y_pred_train1, y_train))\n",
        "print(\"\\n\\nClassification Report\", classification_report(y_pred_train1, y_train))"
      ],
      "metadata": {
        "colab": {
          "base_uri": "https://localhost:8080/"
        },
        "id": "19mKrHHyWFOc",
        "outputId": "65065c02-961b-4953-dcbe-376dde7c757a"
      },
      "execution_count": null,
      "outputs": [
        {
          "output_type": "stream",
          "name": "stdout",
          "text": [
            "Accuracy 0.8753004807692307\n",
            "Confusion Matrix:\n",
            " [[7323 1082]\n",
            " [ 993 7242]]\n",
            "\n",
            "\n",
            "Classification Report               precision    recall  f1-score   support\n",
            "\n",
            "           0       0.88      0.87      0.88      8405\n",
            "           1       0.87      0.88      0.87      8235\n",
            "\n",
            "    accuracy                           0.88     16640\n",
            "   macro avg       0.88      0.88      0.88     16640\n",
            "weighted avg       0.88      0.88      0.88     16640\n",
            "\n"
          ]
        }
      ]
    },
    {
      "cell_type": "code",
      "source": [
        "## predicting the data on train data\n",
        "\n",
        "y_pred_test1 = lr.predict(x_test_vecs)\n",
        "print('\\n\\nAccuracy', accuracy_score(y_pred_test1, y_test))\n",
        "print('Confusion Matrix:\\n', confusion_matrix(y_pred_test1, y_test))\n",
        "print(\"\\n\\nClassification Report\", classification_report(y_pred_test1, y_test))"
      ],
      "metadata": {
        "colab": {
          "base_uri": "https://localhost:8080/"
        },
        "id": "1lt6N_ZcWHqS",
        "outputId": "8630e438-54ea-41ae-b434-af5108108aa6"
      },
      "execution_count": null,
      "outputs": [
        {
          "output_type": "stream",
          "name": "stdout",
          "text": [
            "\n",
            "\n",
            "Accuracy 0.8754807692307692\n",
            "Confusion Matrix:\n",
            " [[1818  265]\n",
            " [ 253 1824]]\n",
            "\n",
            "\n",
            "Classification Report               precision    recall  f1-score   support\n",
            "\n",
            "           0       0.88      0.87      0.88      2083\n",
            "           1       0.87      0.88      0.88      2077\n",
            "\n",
            "    accuracy                           0.88      4160\n",
            "   macro avg       0.88      0.88      0.88      4160\n",
            "weighted avg       0.88      0.88      0.88      4160\n",
            "\n"
          ]
        }
      ]
    },
    {
      "cell_type": "markdown",
      "source": [
        "#### SVM with Google News Vector"
      ],
      "metadata": {
        "id": "i_Rx5JFAoXro"
      }
    },
    {
      "cell_type": "code",
      "source": [
        "svc = SVC(kernel='linear')\n",
        "\n",
        "svc.fit(x_train_vecs, y_train)"
      ],
      "metadata": {
        "colab": {
          "base_uri": "https://localhost:8080/"
        },
        "id": "PEtZB65foWoU",
        "outputId": "b3df237a-5404-4a61-e423-3b5b3d6a7ca3"
      },
      "execution_count": null,
      "outputs": [
        {
          "output_type": "execute_result",
          "data": {
            "text/plain": [
              "SVC(kernel='linear')"
            ]
          },
          "metadata": {},
          "execution_count": 85
        }
      ]
    },
    {
      "cell_type": "code",
      "source": [
        "## Testing the model \n",
        "\n",
        "## predicting the data on train data\n",
        "\n",
        "y_pred_train = svc.predict(x_train_vecs)\n",
        "print(\"accuracy Score:\" , accuracy_score(y_pred_train,y_train))\n",
        "print(\"\\n\\nConfusion matrix\\n\", confusion_matrix(y_pred_train,y_train))\n",
        "print(\"\\n\\nClassification Report\", classification_report(y_pred_train,y_train))"
      ],
      "metadata": {
        "colab": {
          "base_uri": "https://localhost:8080/"
        },
        "id": "oJNUCPfxof7X",
        "outputId": "06755022-e69e-412e-9824-e20c68dc4a52"
      },
      "execution_count": null,
      "outputs": [
        {
          "output_type": "stream",
          "name": "stdout",
          "text": [
            "accuracy Score: 0.8792668269230769\n",
            "\n",
            "\n",
            "Confusion matrix\n",
            " [[7383 1076]\n",
            " [ 933 7248]]\n",
            "\n",
            "\n",
            "Classification Report               precision    recall  f1-score   support\n",
            "\n",
            "           0       0.89      0.87      0.88      8459\n",
            "           1       0.87      0.89      0.88      8181\n",
            "\n",
            "    accuracy                           0.88     16640\n",
            "   macro avg       0.88      0.88      0.88     16640\n",
            "weighted avg       0.88      0.88      0.88     16640\n",
            "\n"
          ]
        }
      ]
    },
    {
      "cell_type": "code",
      "source": [
        "## Test data\n",
        "#predicting the data on test data\n",
        "\n",
        "y_pred_test = svc.predict(x_test_vecs)\n",
        "print(\"accuracy:\", accuracy_score(y_pred_test,y_test))\n",
        "print(\"\\n\\nConfusion matrix\\n\", confusion_matrix(y_pred_test,y_test))\n",
        "print(\"\\n\\nClassification Report\", classification_report(y_pred_test,y_test))"
      ],
      "metadata": {
        "colab": {
          "base_uri": "https://localhost:8080/"
        },
        "id": "zapAObLjohKj",
        "outputId": "2a07aa15-731a-490c-ac9f-038a8b1f1456"
      },
      "execution_count": null,
      "outputs": [
        {
          "output_type": "stream",
          "name": "stdout",
          "text": [
            "accuracy: 0.871875\n",
            "\n",
            "\n",
            "Confusion matrix\n",
            " [[1817  279]\n",
            " [ 254 1810]]\n",
            "\n",
            "\n",
            "Classification Report               precision    recall  f1-score   support\n",
            "\n",
            "           0       0.88      0.87      0.87      2096\n",
            "           1       0.87      0.88      0.87      2064\n",
            "\n",
            "    accuracy                           0.87      4160\n",
            "   macro avg       0.87      0.87      0.87      4160\n",
            "weighted avg       0.87      0.87      0.87      4160\n",
            "\n"
          ]
        }
      ]
    },
    {
      "cell_type": "markdown",
      "source": [
        "#### Random Forest Classifier with Google News vector"
      ],
      "metadata": {
        "id": "sIwL14GQWWfQ"
      }
    },
    {
      "cell_type": "code",
      "source": [
        "rf = RandomForestClassifier()\n",
        "rf.fit(x_train_vecs, y_train)"
      ],
      "metadata": {
        "colab": {
          "base_uri": "https://localhost:8080/"
        },
        "id": "FzVKerrbWU-Y",
        "outputId": "6848213f-9d85-4809-f547-5175917dbd2a"
      },
      "execution_count": null,
      "outputs": [
        {
          "output_type": "execute_result",
          "data": {
            "text/plain": [
              "RandomForestClassifier()"
            ]
          },
          "metadata": {},
          "execution_count": 88
        }
      ]
    },
    {
      "cell_type": "code",
      "source": [
        "## predicting the data on train data\n",
        "\n",
        "y_pred_train2 = rf.predict(x_train_vecs)\n",
        "print('Accuracy', accuracy_score(y_pred_train2, y_train))\n",
        "print('Confusion Matrix:\\n', confusion_matrix(y_pred_train2, y_train))\n",
        "print(\"\\n\\nClassification Report\", classification_report(y_pred_train2, y_train))"
      ],
      "metadata": {
        "colab": {
          "base_uri": "https://localhost:8080/"
        },
        "id": "stUhjiMBWguJ",
        "outputId": "53c715f4-302e-4809-ae7b-863b83601f6a"
      },
      "execution_count": null,
      "outputs": [
        {
          "output_type": "stream",
          "name": "stdout",
          "text": [
            "Accuracy 1.0\n",
            "Confusion Matrix:\n",
            " [[8316    0]\n",
            " [   0 8324]]\n",
            "\n",
            "\n",
            "Classification Report               precision    recall  f1-score   support\n",
            "\n",
            "           0       1.00      1.00      1.00      8316\n",
            "           1       1.00      1.00      1.00      8324\n",
            "\n",
            "    accuracy                           1.00     16640\n",
            "   macro avg       1.00      1.00      1.00     16640\n",
            "weighted avg       1.00      1.00      1.00     16640\n",
            "\n"
          ]
        }
      ]
    },
    {
      "cell_type": "code",
      "source": [
        "## predicting the data on test data\n",
        "\n",
        "y_pred_test2 = rf.predict(x_test_vecs)\n",
        "print('\\n\\nAccuracy', accuracy_score(y_pred_test2, y_test))\n",
        "print('Confusion Matrix:\\n', confusion_matrix(y_pred_test2, y_test))\n",
        "print(\"\\n\\nClassification Report\", classification_report(y_pred_test2, y_test))"
      ],
      "metadata": {
        "colab": {
          "base_uri": "https://localhost:8080/"
        },
        "id": "TJclPet6WixL",
        "outputId": "604a1d3a-b771-4a8d-f605-83548ab7ab90"
      },
      "execution_count": null,
      "outputs": [
        {
          "output_type": "stream",
          "name": "stdout",
          "text": [
            "\n",
            "\n",
            "Accuracy 0.8620192307692308\n",
            "Confusion Matrix:\n",
            " [[1756  259]\n",
            " [ 315 1830]]\n",
            "\n",
            "\n",
            "Classification Report               precision    recall  f1-score   support\n",
            "\n",
            "           0       0.85      0.87      0.86      2015\n",
            "           1       0.88      0.85      0.86      2145\n",
            "\n",
            "    accuracy                           0.86      4160\n",
            "   macro avg       0.86      0.86      0.86      4160\n",
            "weighted avg       0.86      0.86      0.86      4160\n",
            "\n"
          ]
        }
      ]
    },
    {
      "cell_type": "markdown",
      "source": [
        "#### XGBOOST with Google News Vector"
      ],
      "metadata": {
        "id": "R4bUoSYlXg9T"
      }
    },
    {
      "cell_type": "code",
      "source": [
        "xg = xgb.XGBClassifier()\n",
        "\n",
        "xg.fit(x_train_vecs, y_train)"
      ],
      "metadata": {
        "colab": {
          "base_uri": "https://localhost:8080/"
        },
        "id": "4DhAziErXo2U",
        "outputId": "c07ad1af-e023-45cc-f76d-2c1e5418df81"
      },
      "execution_count": null,
      "outputs": [
        {
          "output_type": "execute_result",
          "data": {
            "text/plain": [
              "XGBClassifier()"
            ]
          },
          "metadata": {},
          "execution_count": 91
        }
      ]
    },
    {
      "cell_type": "code",
      "source": [
        "## predicting the data on train data\n",
        "\n",
        "y_pred_train3 = xg.predict(x_train_vecs)\n",
        "print('Accuracy', accuracy_score(y_pred_train3, y_train))\n",
        "print('Confusion Matrix:\\n', confusion_matrix(y_pred_train3, y_train))\n",
        "print(\"\\n\\nClassification Report\", classification_report(y_pred_train3, y_train))"
      ],
      "metadata": {
        "colab": {
          "base_uri": "https://localhost:8080/"
        },
        "id": "uhdu9S4YXrci",
        "outputId": "9dda6dfd-3006-4437-89af-a30a4c5cc360"
      },
      "execution_count": null,
      "outputs": [
        {
          "output_type": "stream",
          "name": "stdout",
          "text": [
            "Accuracy 0.8768629807692307\n",
            "Confusion Matrix:\n",
            " [[7417 1150]\n",
            " [ 899 7174]]\n",
            "\n",
            "\n",
            "Classification Report               precision    recall  f1-score   support\n",
            "\n",
            "           0       0.89      0.87      0.88      8567\n",
            "           1       0.86      0.89      0.88      8073\n",
            "\n",
            "    accuracy                           0.88     16640\n",
            "   macro avg       0.88      0.88      0.88     16640\n",
            "weighted avg       0.88      0.88      0.88     16640\n",
            "\n"
          ]
        }
      ]
    },
    {
      "cell_type": "code",
      "source": [
        "## Predicting the data on test data\n",
        "\n",
        "y_pred_test3 = xg.predict(x_test_vecs)\n",
        "print('\\n\\nAccuracy', accuracy_score(y_pred_test3, y_test))\n",
        "print('Confusion Matrix:\\n', confusion_matrix(y_pred_test3, y_test))\n",
        "print(\"\\n\\nClassification Report\", classification_report(y_pred_test3, y_test))"
      ],
      "metadata": {
        "colab": {
          "base_uri": "https://localhost:8080/"
        },
        "id": "ZwvkBL3BX5F6",
        "outputId": "27cfc70c-b943-4128-f2f4-4179045ccac5"
      },
      "execution_count": null,
      "outputs": [
        {
          "output_type": "stream",
          "name": "stdout",
          "text": [
            "\n",
            "\n",
            "Accuracy 0.8427884615384615\n",
            "Confusion Matrix:\n",
            " [[1759  342]\n",
            " [ 312 1747]]\n",
            "\n",
            "\n",
            "Classification Report               precision    recall  f1-score   support\n",
            "\n",
            "           0       0.85      0.84      0.84      2101\n",
            "           1       0.84      0.85      0.84      2059\n",
            "\n",
            "    accuracy                           0.84      4160\n",
            "   macro avg       0.84      0.84      0.84      4160\n",
            "weighted avg       0.84      0.84      0.84      4160\n",
            "\n"
          ]
        }
      ]
    },
    {
      "cell_type": "markdown",
      "source": [
        "# Stanford's GloVe pre-trained data\n",
        "\n",
        "https://nlp.stanford.edu/projects/glove/"
      ],
      "metadata": {
        "id": "zS3k9dl_MlkX"
      }
    },
    {
      "cell_type": "code",
      "source": [
        "import gensim\n",
        "import os\n",
        "import shutil\n",
        "import hashlib\n",
        "from sys import platform\n",
        "\n",
        "def getFileLineNums(filename):\n",
        "    f = open(filename, 'r')\n",
        "    count = 0\n",
        "    for line in f:\n",
        "        count += 1\n",
        "    return count\n",
        "\n",
        "\n",
        "def prepend_line(infile, outfile, line):\n",
        "    with open(infile, 'r') as old:\n",
        "        with open(outfile, 'w') as new:\n",
        "            new.write(str(line) + \"\\n\")\n",
        "            shutil.copyfileobj(old, new)\n",
        "\n",
        "def prepend_slow(infile, outfile, line):\n",
        "    with open(infile, 'r') as fin:\n",
        "        with open(outfile, 'w') as fout:\n",
        "            fout.write(line + \"\\n\")\n",
        "            for line in fin:\n",
        "                fout.write(line)\n",
        "\n",
        "def load(filename):\n",
        "    num_lines = getFileLineNums(filename)\n",
        "    gensim_file = 'glove_model.txt'\n",
        "    gensim_first_line = \"{} {}\".format(num_lines, 300)\n",
        "    # Prepends the line.\n",
        "    if platform == \"linux\" or platform == \"linux2\":\n",
        "        prepend_line(filename, gensim_file, gensim_first_line)\n",
        "    else:\n",
        "        prepend_slow(filename, gensim_file, gensim_first_line)\n",
        "    model = gensim.models.KeyedVectors.load_word2vec_format(gensim_file)\n",
        "    return model\n",
        "\n",
        "    \n",
        "model2 = load('/content/drive/MyDrive/glove.42B.300d.txt')"
      ],
      "metadata": {
        "id": "4j7bzYSrMqBK"
      },
      "execution_count": null,
      "outputs": []
    },
    {
      "cell_type": "code",
      "source": [
        "## converting words to vector\n",
        "def convert_word_to_vector(sms, size):\n",
        "    vec = np.zeros(300).reshape((1, 300))\n",
        "    count = 0\n",
        "    for word in sms:\n",
        "        try:\n",
        "            vec += model2.__getitem__(word).reshape((1, size))\n",
        "            count += 1.\n",
        "        except KeyError:\n",
        "            continue\n",
        "    if count != 0:\n",
        "        vec /= count\n",
        "    return vec"
      ],
      "metadata": {
        "id": "juanT5cAM9J5"
      },
      "execution_count": null,
      "outputs": []
    },
    {
      "cell_type": "code",
      "source": [
        "## splitting the dataset \n",
        "\n",
        "x_train, x_test, y_train, y_test = train_test_split(data_train['text_total'],y, test_size=0.2)"
      ],
      "metadata": {
        "id": "h72q7b-6NC0A"
      },
      "execution_count": null,
      "outputs": []
    },
    {
      "cell_type": "code",
      "source": [
        "# converting training and testing to vectors\n",
        "\n",
        "x_train_vecs = scale(np.concatenate([convert_word_to_vector(z, 300) for z in x_train]))\n",
        "x_test_vecs = scale(np.concatenate([convert_word_to_vector(z, 300) for z in x_test]))"
      ],
      "metadata": {
        "id": "BwKPSOiUNG2F"
      },
      "execution_count": null,
      "outputs": []
    },
    {
      "cell_type": "markdown",
      "source": [
        "#### Logistic Regression with Glove Stanford model"
      ],
      "metadata": {
        "id": "iCrh0i9sYQTK"
      }
    },
    {
      "cell_type": "code",
      "source": [
        "lr1 = LogisticRegression()\n",
        "\n",
        "lr1.fit(x_train_vecs, y_train)"
      ],
      "metadata": {
        "colab": {
          "base_uri": "https://localhost:8080/"
        },
        "id": "OUcYANnQYM9w",
        "outputId": "2fe95723-a7ac-44a2-bf68-c88a495169e0"
      },
      "execution_count": null,
      "outputs": [
        {
          "output_type": "stream",
          "name": "stderr",
          "text": [
            "/usr/local/lib/python3.7/dist-packages/sklearn/linear_model/_logistic.py:818: ConvergenceWarning: lbfgs failed to converge (status=1):\n",
            "STOP: TOTAL NO. of ITERATIONS REACHED LIMIT.\n",
            "\n",
            "Increase the number of iterations (max_iter) or scale the data as shown in:\n",
            "    https://scikit-learn.org/stable/modules/preprocessing.html\n",
            "Please also refer to the documentation for alternative solver options:\n",
            "    https://scikit-learn.org/stable/modules/linear_model.html#logistic-regression\n",
            "  extra_warning_msg=_LOGISTIC_SOLVER_CONVERGENCE_MSG,\n"
          ]
        },
        {
          "output_type": "execute_result",
          "data": {
            "text/plain": [
              "LogisticRegression()"
            ]
          },
          "metadata": {},
          "execution_count": 96
        }
      ]
    },
    {
      "cell_type": "code",
      "source": [
        "## predicting the data on train data\n",
        "\n",
        "y_pred_train1 = lr1.predict(x_train_vecs)\n",
        "print('Accuracy', accuracy_score(y_pred_train1, y_train))\n",
        "print('Confusion Matrix:\\n', confusion_matrix(y_pred_train1, y_train))\n",
        "print(\"\\n\\nClassification Report\", classification_report(y_pred_train1, y_train))"
      ],
      "metadata": {
        "colab": {
          "base_uri": "https://localhost:8080/"
        },
        "id": "L1neOcK3Yr6g",
        "outputId": "d633fa40-b134-40ad-a394-3266c81b5dde"
      },
      "execution_count": null,
      "outputs": [
        {
          "output_type": "stream",
          "name": "stdout",
          "text": [
            "Accuracy 0.8790865384615385\n",
            "Confusion Matrix:\n",
            " [[7358 1064]\n",
            " [ 948 7270]]\n",
            "\n",
            "\n",
            "Classification Report               precision    recall  f1-score   support\n",
            "\n",
            "           0       0.89      0.87      0.88      8422\n",
            "           1       0.87      0.88      0.88      8218\n",
            "\n",
            "    accuracy                           0.88     16640\n",
            "   macro avg       0.88      0.88      0.88     16640\n",
            "weighted avg       0.88      0.88      0.88     16640\n",
            "\n"
          ]
        }
      ]
    },
    {
      "cell_type": "code",
      "source": [
        "## predicting the data on test data\n",
        "\n",
        "y_pred_test1 = lr1.predict(x_test_vecs)\n",
        "print('\\n\\nAccuracy', accuracy_score(y_pred_test1, y_test))\n",
        "print('Confusion Matrix:\\n', confusion_matrix(y_pred_test1, y_test))\n",
        "print(\"\\n\\nClassification Report\", classification_report(y_pred_test1, y_test))"
      ],
      "metadata": {
        "colab": {
          "base_uri": "https://localhost:8080/"
        },
        "id": "WeazpF5IYt4C",
        "outputId": "bc5a88ad-f51e-40de-c17a-bf28284394d2"
      },
      "execution_count": null,
      "outputs": [
        {
          "output_type": "stream",
          "name": "stdout",
          "text": [
            "\n",
            "\n",
            "Accuracy 0.8692307692307693\n",
            "Confusion Matrix:\n",
            " [[1814  277]\n",
            " [ 267 1802]]\n",
            "\n",
            "\n",
            "Classification Report               precision    recall  f1-score   support\n",
            "\n",
            "           0       0.87      0.87      0.87      2091\n",
            "           1       0.87      0.87      0.87      2069\n",
            "\n",
            "    accuracy                           0.87      4160\n",
            "   macro avg       0.87      0.87      0.87      4160\n",
            "weighted avg       0.87      0.87      0.87      4160\n",
            "\n"
          ]
        }
      ]
    },
    {
      "cell_type": "markdown",
      "source": [
        "#### SVM With Golve Stanford Model"
      ],
      "metadata": {
        "id": "-2Xco6QLp3nH"
      }
    },
    {
      "cell_type": "code",
      "source": [
        "svc = SVC(kernel='linear')\n",
        "\n",
        "svc.fit(x_train_vecs, y_train)"
      ],
      "metadata": {
        "colab": {
          "base_uri": "https://localhost:8080/"
        },
        "id": "vsndzE7nqMka",
        "outputId": "54bc0274-b03b-4c99-c86e-1a21ec6b82e7"
      },
      "execution_count": null,
      "outputs": [
        {
          "output_type": "execute_result",
          "data": {
            "text/plain": [
              "SVC(kernel='linear')"
            ]
          },
          "metadata": {},
          "execution_count": 99
        }
      ]
    },
    {
      "cell_type": "code",
      "source": [
        "## Testing the model \n",
        "\n",
        "## predicting the data on train data\n",
        "\n",
        "y_pred_train = svc.predict(x_train_vecs)\n",
        "print(\"accuracy Score:\" , accuracy_score(y_pred_train,y_train))\n",
        "print(\"\\n\\nConfusion matrix\\n\", confusion_matrix(y_pred_train,y_train))\n",
        "print(\"\\n\\nClassification Report\", classification_report(y_pred_train,y_train))"
      ],
      "metadata": {
        "colab": {
          "base_uri": "https://localhost:8080/"
        },
        "id": "39gc-PEQqSU_",
        "outputId": "a7009520-ebfa-4def-9a1f-3f9fd7920786"
      },
      "execution_count": null,
      "outputs": [
        {
          "output_type": "stream",
          "name": "stdout",
          "text": [
            "accuracy Score: 0.8825721153846153\n",
            "\n",
            "\n",
            "Confusion matrix\n",
            " [[7394 1042]\n",
            " [ 912 7292]]\n",
            "\n",
            "\n",
            "Classification Report               precision    recall  f1-score   support\n",
            "\n",
            "           0       0.89      0.88      0.88      8436\n",
            "           1       0.87      0.89      0.88      8204\n",
            "\n",
            "    accuracy                           0.88     16640\n",
            "   macro avg       0.88      0.88      0.88     16640\n",
            "weighted avg       0.88      0.88      0.88     16640\n",
            "\n"
          ]
        }
      ]
    },
    {
      "cell_type": "code",
      "source": [
        "## Test data\n",
        "# predicting the data on test data\n",
        "\n",
        "y_pred_test = svc.predict(x_test_vecs)\n",
        "print(\"accuracy:\", accuracy_score(y_pred_test,y_test))\n",
        "print(\"\\n\\nConfusion matrix\\n\", confusion_matrix(y_pred_test,y_test))\n",
        "print(\"\\n\\nClassification Report\", classification_report(y_pred_test,y_test))"
      ],
      "metadata": {
        "colab": {
          "base_uri": "https://localhost:8080/"
        },
        "id": "F-FseGFcqV6u",
        "outputId": "2d5e8ebb-a4fd-4275-92a7-93aa3474593e"
      },
      "execution_count": null,
      "outputs": [
        {
          "output_type": "stream",
          "name": "stdout",
          "text": [
            "accuracy: 0.8701923076923077\n",
            "\n",
            "\n",
            "Confusion matrix\n",
            " [[1826  285]\n",
            " [ 255 1794]]\n",
            "\n",
            "\n",
            "Classification Report               precision    recall  f1-score   support\n",
            "\n",
            "           0       0.88      0.86      0.87      2111\n",
            "           1       0.86      0.88      0.87      2049\n",
            "\n",
            "    accuracy                           0.87      4160\n",
            "   macro avg       0.87      0.87      0.87      4160\n",
            "weighted avg       0.87      0.87      0.87      4160\n",
            "\n"
          ]
        }
      ]
    },
    {
      "cell_type": "markdown",
      "source": [
        "#### Random Forest Classifer with Glove Stanford model"
      ],
      "metadata": {
        "id": "5FJ_Xo6iY7hG"
      }
    },
    {
      "cell_type": "code",
      "source": [
        "rf1 = RandomForestClassifier()\n",
        "\n",
        "rf1.fit(x_train_vecs,y_train)"
      ],
      "metadata": {
        "colab": {
          "base_uri": "https://localhost:8080/"
        },
        "id": "YDRiZFQpY6oD",
        "outputId": "f30c9cd6-118e-424c-8ab0-d6c5c549df61"
      },
      "execution_count": null,
      "outputs": [
        {
          "output_type": "execute_result",
          "data": {
            "text/plain": [
              "RandomForestClassifier()"
            ]
          },
          "metadata": {},
          "execution_count": 102
        }
      ]
    },
    {
      "cell_type": "code",
      "source": [
        "## predicting the data on train data\n",
        "\n",
        "y_pred_train2 = rf1.predict(x_train_vecs)\n",
        "print('Accuracy', accuracy_score(y_pred_train2, y_train))\n",
        "print('Confusion Matrix:\\n', confusion_matrix(y_pred_train2, y_train))\n",
        "print(\"\\n\\nClassification Report\", classification_report(y_pred_train2, y_train))"
      ],
      "metadata": {
        "colab": {
          "base_uri": "https://localhost:8080/"
        },
        "id": "vlDQciT_ZEEu",
        "outputId": "f4b21468-3892-4d0b-8766-662c0a9c0c39"
      },
      "execution_count": null,
      "outputs": [
        {
          "output_type": "stream",
          "name": "stdout",
          "text": [
            "Accuracy 1.0\n",
            "Confusion Matrix:\n",
            " [[8306    0]\n",
            " [   0 8334]]\n",
            "\n",
            "\n",
            "Classification Report               precision    recall  f1-score   support\n",
            "\n",
            "           0       1.00      1.00      1.00      8306\n",
            "           1       1.00      1.00      1.00      8334\n",
            "\n",
            "    accuracy                           1.00     16640\n",
            "   macro avg       1.00      1.00      1.00     16640\n",
            "weighted avg       1.00      1.00      1.00     16640\n",
            "\n"
          ]
        }
      ]
    },
    {
      "cell_type": "code",
      "source": [
        "## predicting the data on test data\n",
        "\n",
        "y_pred_test2 = rf1.predict(x_test_vecs)\n",
        "print('\\n\\nAccuracy', accuracy_score(y_pred_test2, y_test))\n",
        "print('Confusion Matrix:\\n', confusion_matrix(y_pred_test2, y_test))\n",
        "print(\"\\n\\nClassification Report\", classification_report(y_pred_test2, y_test))"
      ],
      "metadata": {
        "colab": {
          "base_uri": "https://localhost:8080/"
        },
        "id": "HonGqrUlZF9R",
        "outputId": "8360f1b8-e5a9-4baf-84f7-d773c148a7cc"
      },
      "execution_count": null,
      "outputs": [
        {
          "output_type": "stream",
          "name": "stdout",
          "text": [
            "\n",
            "\n",
            "Accuracy 0.8581730769230769\n",
            "Confusion Matrix:\n",
            " [[1786  295]\n",
            " [ 295 1784]]\n",
            "\n",
            "\n",
            "Classification Report               precision    recall  f1-score   support\n",
            "\n",
            "           0       0.86      0.86      0.86      2081\n",
            "           1       0.86      0.86      0.86      2079\n",
            "\n",
            "    accuracy                           0.86      4160\n",
            "   macro avg       0.86      0.86      0.86      4160\n",
            "weighted avg       0.86      0.86      0.86      4160\n",
            "\n"
          ]
        }
      ]
    },
    {
      "cell_type": "markdown",
      "source": [
        "#### XGBoost with Glove Stanford Model"
      ],
      "metadata": {
        "id": "H_RveUMFZVbY"
      }
    },
    {
      "cell_type": "code",
      "source": [
        "xg1 = xgb.XGBClassifier()\n",
        "\n",
        "xg1.fit(x_train_vecs, y_train)"
      ],
      "metadata": {
        "colab": {
          "base_uri": "https://localhost:8080/"
        },
        "id": "NT8LwX0HZO_5",
        "outputId": "55e0820d-a4a1-4a70-ccb5-644ada50cc77"
      },
      "execution_count": null,
      "outputs": [
        {
          "output_type": "execute_result",
          "data": {
            "text/plain": [
              "XGBClassifier()"
            ]
          },
          "metadata": {},
          "execution_count": 105
        }
      ]
    },
    {
      "cell_type": "code",
      "source": [
        "## predicting the data on train data\n",
        "\n",
        "y_pred_train3 = xg1.predict(x_train_vecs)\n",
        "print('Accuracy', accuracy_score(y_pred_train3, y_train))\n",
        "print('Confusion Matrix:\\n', confusion_matrix(y_pred_train3, y_train))\n",
        "print(\"\\n\\nClassification Report\", classification_report(y_pred_train3, y_train))"
      ],
      "metadata": {
        "colab": {
          "base_uri": "https://localhost:8080/"
        },
        "id": "NSslcV9fZazR",
        "outputId": "1e1bae3c-1ef1-48a1-c183-07563f942a8a"
      },
      "execution_count": null,
      "outputs": [
        {
          "output_type": "stream",
          "name": "stdout",
          "text": [
            "Accuracy 0.8774639423076923\n",
            "Confusion Matrix:\n",
            " [[7422 1155]\n",
            " [ 884 7179]]\n",
            "\n",
            "\n",
            "Classification Report               precision    recall  f1-score   support\n",
            "\n",
            "           0       0.89      0.87      0.88      8577\n",
            "           1       0.86      0.89      0.88      8063\n",
            "\n",
            "    accuracy                           0.88     16640\n",
            "   macro avg       0.88      0.88      0.88     16640\n",
            "weighted avg       0.88      0.88      0.88     16640\n",
            "\n"
          ]
        }
      ]
    },
    {
      "cell_type": "code",
      "source": [
        "## predicting the data on test data\n",
        "\n",
        "y_pred_test3 = xg1.predict(x_test_vecs)\n",
        "print('\\n\\nAccuracy', accuracy_score(y_pred_test3, y_test))\n",
        "print('Confusion Matrix:\\n', confusion_matrix(y_pred_test3, y_test))\n",
        "print(\"\\n\\nClassification Report\", classification_report(y_pred_test3, y_test))"
      ],
      "metadata": {
        "colab": {
          "base_uri": "https://localhost:8080/"
        },
        "id": "HcQ-6qeTZcdb",
        "outputId": "05508ea3-cf7b-40a1-c234-b34dfb960190"
      },
      "execution_count": null,
      "outputs": [
        {
          "output_type": "stream",
          "name": "stdout",
          "text": [
            "\n",
            "\n",
            "Accuracy 0.8413461538461539\n",
            "Confusion Matrix:\n",
            " [[1779  358]\n",
            " [ 302 1721]]\n",
            "\n",
            "\n",
            "Classification Report               precision    recall  f1-score   support\n",
            "\n",
            "           0       0.85      0.83      0.84      2137\n",
            "           1       0.83      0.85      0.84      2023\n",
            "\n",
            "    accuracy                           0.84      4160\n",
            "   macro avg       0.84      0.84      0.84      4160\n",
            "weighted avg       0.84      0.84      0.84      4160\n",
            "\n"
          ]
        }
      ]
    }
  ],
  "metadata": {
    "accelerator": "GPU",
    "colab": {
      "collapsed_sections": [
        "5ERlHn84XzH6",
        "JPA4pEyqu5tI",
        "lDd0wvzWXuDM",
        "1sx5fSwqrqzA",
        "Pk4r5XPoo9_3",
        "KTzZZOgrpRf-",
        "CI4_DANZpmpm",
        "UFE7CYSgp1o8",
        "0FxNLYdxrqzF",
        "g8i5-LlArqzH",
        "6NkvhbBYMKtQ",
        "zS3k9dl_MlkX",
        "iCrh0i9sYQTK",
        "-2Xco6QLp3nH"
      ],
      "name": "NLP_Project.ipynb",
      "provenance": []
    },
    "kernelspec": {
      "display_name": "Python 3 (ipykernel)",
      "language": "python",
      "name": "python3"
    },
    "language_info": {
      "codemirror_mode": {
        "name": "ipython",
        "version": 3
      },
      "file_extension": ".py",
      "mimetype": "text/x-python",
      "name": "python",
      "nbconvert_exporter": "python",
      "pygments_lexer": "ipython3",
      "version": "3.9.7"
    }
  },
  "nbformat": 4,
  "nbformat_minor": 0
}